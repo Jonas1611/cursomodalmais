{
  "nbformat": 4,
  "nbformat_minor": 0,
  "metadata": {
    "colab": {
      "name": "Modulo 02",
      "provenance": [],
      "authorship_tag": "ABX9TyOEENsvccmTkG8vmT+nqcg/",
      "include_colab_link": true
    },
    "kernelspec": {
      "name": "python3",
      "display_name": "Python 3"
    },
    "language_info": {
      "name": "python"
    }
  },
  "cells": [
    {
      "cell_type": "markdown",
      "metadata": {
        "id": "view-in-github",
        "colab_type": "text"
      },
      "source": [
        "<a href=\"https://colab.research.google.com/github/Jonas1611/cursomodalmais/blob/main/Modulo_02.ipynb\" target=\"_parent\"><img src=\"https://colab.research.google.com/assets/colab-badge.svg\" alt=\"Open In Colab\"/></a>"
      ]
    },
    {
      "cell_type": "code",
      "execution_count": null,
      "metadata": {
        "colab": {
          "base_uri": "https://localhost:8080/"
        },
        "id": "KlqwO5Pu6Pdy",
        "outputId": "19543bc4-650d-4a2c-d6a5-c15f98d463d5"
      },
      "outputs": [
        {
          "output_type": "stream",
          "name": "stdout",
          "text": [
            "Ainda não atingiu o preço alvo, espre. o preço atual é : 30\n",
            "Ainda não atingiu o preço alvo, espre. o preço atual é : 30.3\n",
            "Ainda não atingiu o preço alvo, espre. o preço atual é : 30.6\n",
            "Ainda não atingiu o preço alvo, espre. o preço atual é : 30.91\n",
            "Ainda não atingiu o preço alvo, espre. o preço atual é : 31.22\n",
            "Ainda não atingiu o preço alvo, espre. o preço atual é : 31.53\n",
            "Ainda não atingiu o preço alvo, espre. o preço atual é : 31.85\n",
            "Ainda não atingiu o preço alvo, espre. o preço atual é : 32.16\n",
            "Ainda não atingiu o preço alvo, espre. o preço atual é : 32.49\n",
            "Ainda não atingiu o preço alvo, espre. o preço atual é : 32.81\n",
            "Ainda não atingiu o preço alvo, espre. o preço atual é : 33.14\n",
            "Ainda não atingiu o preço alvo, espre. o preço atual é : 33.47\n",
            "Ainda não atingiu o preço alvo, espre. o preço atual é : 33.8\n",
            "Ainda não atingiu o preço alvo, espre. o preço atual é : 34.14\n",
            "Ainda não atingiu o preço alvo, espre. o preço atual é : 34.48\n",
            "Ainda não atingiu o preço alvo, espre. o preço atual é : 34.83\n",
            "Ainda não atingiu o preço alvo, espre. o preço atual é : 35.18\n",
            "Ainda não atingiu o preço alvo, espre. o preço atual é : 35.53\n",
            "Ainda não atingiu o preço alvo, espre. o preço atual é : 35.88\n",
            "Ainda não atingiu o preço alvo, espre. o preço atual é : 36.24\n",
            "Ainda não atingiu o preço alvo, espre. o preço atual é : 36.61\n",
            "Ainda não atingiu o preço alvo, espre. o preço atual é : 36.97\n",
            "Ainda não atingiu o preço alvo, espre. o preço atual é : 37.34\n",
            "Ainda não atingiu o preço alvo, espre. o preço atual é : 37.71\n",
            "Ainda não atingiu o preço alvo, espre. o preço atual é : 38.09\n",
            "Ainda não atingiu o preço alvo, espre. o preço atual é : 38.47\n",
            "Ainda não atingiu o preço alvo, espre. o preço atual é : 38.86\n",
            "Preço alvo atingigo hora de vender! preço da venda  39.25\n"
          ]
        }
      ],
      "source": [
        "preco_weg = 30\n",
        "while preco_weg < 39:\n",
        "  print(\"Ainda não atingiu o preço alvo, espre. o preço atual é :\", round(preco_weg,2))\n",
        "  preco_weg = preco_weg *1.01\n",
        "\n",
        "else:\n",
        "  print(\"Preço alvo atingigo hora de vender! preço da venda \", round(preco_weg,2))"
      ]
    },
    {
      "cell_type": "code",
      "source": [
        "# While\n",
        "\n",
        "#Imagine que tem disponível 10000  para investir.  A  cada operação sera computado o valor alocado nesta operação (chamaremos de \"investimeto_unitario\")\n",
        "#A função imput interage com o usuario, recebendo um objeto ( numérico, string...) e armazenando em uma variável.\n",
        "\n",
        "  investimento_unitario = 0\n",
        "  investimento_total = 0\n",
        "  investimento_limite = 10000"
      ],
      "metadata": {
        "id": "JMMTyLaK8UyV"
      },
      "execution_count": null,
      "outputs": []
    },
    {
      "cell_type": "code",
      "source": [
        "investimento_unitario = 0\n",
        "investimento_total = 0\n",
        "investimento_limite = 10000\n",
        "\n",
        "\n",
        "while investimento_total <= investimento_limite:\n",
        "  investimento_unitario = int(input(\"Quanto deseja investir? \"))\n",
        "  investimento_total = investimento_total + investimento_unitario\n",
        "\n",
        "else:\n",
        "  print(\"\\nO limite total para investir foi atingido\")\n",
        "  print(\"\\nVocê excedeu o investimento limite em \", investimento_total - investimento_limite)\n",
        "\n",
        "print(\"\\nVocê investiu um total de R$\", investimento_total)\n"
      ],
      "metadata": {
        "colab": {
          "base_uri": "https://localhost:8080/"
        },
        "id": "epdmgXQh9E_5",
        "outputId": "1d7742bd-a74b-4b41-a95d-dd52afc2869e"
      },
      "execution_count": null,
      "outputs": [
        {
          "output_type": "stream",
          "name": "stdout",
          "text": [
            "Quanto deseja investir? 3000\n",
            "Quanto deseja investir? 2000\n",
            "Quanto deseja investir? 5000\n",
            "Quanto deseja investir? 4000\n",
            "\n",
            "O limite total para investir foi atingido\n",
            "\n",
            "Você excedeu o investimento limite em  4000\n",
            "\n",
            "Você investiu um total de R$ 14000\n"
          ]
        }
      ]
    },
    {
      "cell_type": "markdown",
      "source": [
        "## Alguns outros operadores"
      ],
      "metadata": {
        "id": "4E63ucaxBasK"
      }
    },
    {
      "cell_type": "markdown",
      "source": [
        "### 11.1 Range"
      ],
      "metadata": {
        "id": "myoxguTABsZY"
      }
    },
    {
      "cell_type": "code",
      "source": [
        "range(0,11)\n",
        "\n",
        "list(range(0,11))\n",
        "\n",
        "for i in range(0,11,2):\n",
        "  print(i)"
      ],
      "metadata": {
        "colab": {
          "base_uri": "https://localhost:8080/"
        },
        "id": "tEp-YmCpB3yx",
        "outputId": "5747a68e-4c4a-416a-d512-f345f9442705"
      },
      "execution_count": null,
      "outputs": [
        {
          "output_type": "stream",
          "name": "stdout",
          "text": [
            "0\n",
            "2\n",
            "4\n",
            "6\n",
            "8\n",
            "10\n"
          ]
        }
      ]
    },
    {
      "cell_type": "markdown",
      "source": [
        "### 11.2 Enumerate"
      ],
      "metadata": {
        "id": "AFrpBtX3Crn6"
      }
    },
    {
      "cell_type": "code",
      "source": [
        "lista_ativos = ['PETR4.SA', 'WEGE3.SA', 'MGLU3', 'LREN3.SA', 'RENT3.SA', 'VALE3.SA']"
      ],
      "metadata": {
        "id": "EnFRD-C2CvKW"
      },
      "execution_count": null,
      "outputs": []
    },
    {
      "cell_type": "code",
      "source": [
        "list(enumerate(lista_ativos))"
      ],
      "metadata": {
        "colab": {
          "base_uri": "https://localhost:8080/"
        },
        "id": "2AiOrrxcDTOL",
        "outputId": "858c3a8a-24f8-406f-8104-4f4bdc27ab1c"
      },
      "execution_count": null,
      "outputs": [
        {
          "output_type": "execute_result",
          "data": {
            "text/plain": [
              "[(0, 'PETR4.SA'),\n",
              " (1, 'WEGE3.SA'),\n",
              " (2, 'MGLU3'),\n",
              " (3, 'LREN3.SA'),\n",
              " (4, 'RENT3.SA'),\n",
              " (5, 'VALE3.SA')]"
            ]
          },
          "metadata": {},
          "execution_count": 58
        }
      ]
    },
    {
      "cell_type": "code",
      "source": [
        "acao = \"PETR4\"\n",
        "\n",
        "for i, j in enumerate(acao):\n",
        "    print(\"No índice\", i , \"o caracter é\", j)"
      ],
      "metadata": {
        "colab": {
          "base_uri": "https://localhost:8080/"
        },
        "id": "CarEFPNnEHij",
        "outputId": "86638f94-5771-44dc-e5b3-a8c9db946c72"
      },
      "execution_count": null,
      "outputs": [
        {
          "output_type": "stream",
          "name": "stdout",
          "text": [
            "No índice 0 o caracter é P\n",
            "No índice 1 o caracter é E\n",
            "No índice 2 o caracter é T\n",
            "No índice 3 o caracter é R\n",
            "No índice 4 o caracter é 4\n"
          ]
        }
      ]
    },
    {
      "cell_type": "code",
      "source": [
        "index_count = 0 \n",
        "\n",
        "for letra in acao:\n",
        "  print(\"No índice\", index_count, \"o caractere é\", letra)\n",
        "  index_count += 1"
      ],
      "metadata": {
        "colab": {
          "base_uri": "https://localhost:8080/"
        },
        "id": "7CsGOHlDEyID",
        "outputId": "87881242-60d4-4124-e1b3-589135e0d21f"
      },
      "execution_count": null,
      "outputs": [
        {
          "output_type": "stream",
          "name": "stdout",
          "text": [
            "No índice 0 o caractere é P\n",
            "No índice 1 o caractere é E\n",
            "No índice 2 o caractere é T\n",
            "No índice 3 o caractere é R\n",
            "No índice 4 o caractere é 4\n"
          ]
        }
      ]
    },
    {
      "cell_type": "code",
      "source": [
        "acoes = ['PETR4.SA', 'WEGE3.SA', 'MGLU3', 'LREN3.SA', 'RENT3.SA', 'VALE3.SA']\n",
        "\n",
        "setores = ['Petroleo', 'Motores', 'Varejo', 'Construção', 'Metalurgia']\n",
        "\n",
        "list(zip(acoes,setores))"
      ],
      "metadata": {
        "colab": {
          "base_uri": "https://localhost:8080/"
        },
        "id": "2n006prjGIx7",
        "outputId": "02c47807-cd73-4bfa-c5da-f0cdc9030ae9"
      },
      "execution_count": null,
      "outputs": [
        {
          "output_type": "execute_result",
          "data": {
            "text/plain": [
              "[('PETR4.SA', 'Petroleo'),\n",
              " ('WEGE3.SA', 'Motores'),\n",
              " ('MGLU3', 'Varejo'),\n",
              " ('LREN3.SA', 'Construção'),\n",
              " ('RENT3.SA', 'Metalurgia')]"
            ]
          },
          "metadata": {},
          "execution_count": 69
        }
      ]
    },
    {
      "cell_type": "code",
      "source": [
        "\n",
        "for acao, setor in list(zip(acoes,setores)):\n",
        "  print('O papel', acao, 'pertence ao setor', setor)"
      ],
      "metadata": {
        "colab": {
          "base_uri": "https://localhost:8080/"
        },
        "id": "L3wvClBsGjpO",
        "outputId": "b86d04b1-1c5e-45cd-fcd7-92f8ee62329e"
      },
      "execution_count": null,
      "outputs": [
        {
          "output_type": "stream",
          "name": "stdout",
          "text": [
            "O papel PETR4.SA pertence ao setor Petroleo\n",
            "O papel WEGE3.SA pertence ao setor Motores\n",
            "O papel MGLU3 pertence ao setor Varejo\n",
            "O papel LREN3.SA pertence ao setor Construção\n",
            "O papel RENT3.SA pertence ao setor Metalurgia\n"
          ]
        }
      ]
    },
    {
      "cell_type": "code",
      "source": [
        "papel = 'PETR3'\n",
        "setor = 'petroleo'\n",
        "f'A {papel} está no setor de {setor}'"
      ],
      "metadata": {
        "colab": {
          "base_uri": "https://localhost:8080/",
          "height": 35
        },
        "id": "_OWhTRNlH3md",
        "outputId": "0733c532-8560-4911-a97f-0c863175545a"
      },
      "execution_count": null,
      "outputs": [
        {
          "output_type": "execute_result",
          "data": {
            "text/plain": [
              "'A PETR3 está no setor de petroleo'"
            ],
            "application/vnd.google.colaboratory.intrinsic+json": {
              "type": "string"
            }
          },
          "metadata": {},
          "execution_count": 77
        }
      ]
    },
    {
      "cell_type": "code",
      "source": [
        "for acao, setor in list(zip(acoes,setores)):\n",
        "  print(f'O papel {acao} pertence ao setor {setor}')"
      ],
      "metadata": {
        "colab": {
          "base_uri": "https://localhost:8080/"
        },
        "id": "cy0061P_IeVM",
        "outputId": "657e247f-bfcd-4bb3-ea99-fb3b4ec4e8af"
      },
      "execution_count": null,
      "outputs": [
        {
          "output_type": "stream",
          "name": "stdout",
          "text": [
            "O papel PETR4.SA pertence ao setor Petroleo\n",
            "O papel WEGE3.SA pertence ao setor Motores\n",
            "O papel MGLU3 pertence ao setor Varejo\n",
            "O papel LREN3.SA pertence ao setor Construção\n",
            "O papel RENT3.SA pertence ao setor Metalurgia\n"
          ]
        }
      ]
    },
    {
      "cell_type": "code",
      "source": [
        "'VIVR3' in acoes"
      ],
      "metadata": {
        "colab": {
          "base_uri": "https://localhost:8080/"
        },
        "id": "WPGl_W05Ix_i",
        "outputId": "f1422e6b-19e7-42d7-e40d-2caf68ffdc9b"
      },
      "execution_count": null,
      "outputs": [
        {
          "output_type": "execute_result",
          "data": {
            "text/plain": [
              "False"
            ]
          },
          "metadata": {},
          "execution_count": 79
        }
      ]
    },
    {
      "cell_type": "code",
      "source": [
        "\"RENT3.SA\" in acoes"
      ],
      "metadata": {
        "colab": {
          "base_uri": "https://localhost:8080/"
        },
        "id": "opOXkHCHI3CM",
        "outputId": "bb467919-61e0-4028-e24d-0b97d46f4dcc"
      },
      "execution_count": null,
      "outputs": [
        {
          "output_type": "execute_result",
          "data": {
            "text/plain": [
              "True"
            ]
          },
          "metadata": {},
          "execution_count": 81
        }
      ]
    },
    {
      "cell_type": "code",
      "source": [
        ""
      ],
      "metadata": {
        "id": "FCGww1_i9BHq"
      },
      "execution_count": null,
      "outputs": []
    },
    {
      "cell_type": "markdown",
      "source": [
        "### 11.4 Randint\n"
      ],
      "metadata": {
        "id": "EWeE2IhDVbI2"
      }
    },
    {
      "cell_type": "code",
      "source": [
        "from random import randint, shuffle \n",
        "\n",
        "randint(0,100)"
      ],
      "metadata": {
        "colab": {
          "base_uri": "https://localhost:8080/"
        },
        "id": "Iu3PnUapVkhS",
        "outputId": "ee4669e2-ce64-4388-ad2b-1019f72fa89e"
      },
      "execution_count": 3,
      "outputs": [
        {
          "output_type": "execute_result",
          "data": {
            "text/plain": [
              "49"
            ]
          },
          "metadata": {},
          "execution_count": 3
        }
      ]
    },
    {
      "cell_type": "code",
      "source": [
        "list_rand = []\n",
        "\n",
        "for i in range(0,10):\n",
        "  list_rand.append(randint(0,100))"
      ],
      "metadata": {
        "id": "BK2Bqe42Vhzl"
      },
      "execution_count": 4,
      "outputs": []
    },
    {
      "cell_type": "code",
      "source": [
        "list_rand"
      ],
      "metadata": {
        "colab": {
          "base_uri": "https://localhost:8080/"
        },
        "id": "wYzcaMVLbjJG",
        "outputId": "d6681015-6cd5-44c8-8e83-06470c444b68"
      },
      "execution_count": 5,
      "outputs": [
        {
          "output_type": "execute_result",
          "data": {
            "text/plain": [
              "[2, 34, 52, 95, 29, 93, 62, 18, 69, 56]"
            ]
          },
          "metadata": {},
          "execution_count": 5
        }
      ]
    },
    {
      "cell_type": "code",
      "source": [
        "shuffle(list_rand)\n",
        "list_rand"
      ],
      "metadata": {
        "colab": {
          "base_uri": "https://localhost:8080/"
        },
        "id": "ckxre4qWc1Zh",
        "outputId": "d9f89283-2856-4c9a-bd09-61d096bc95de"
      },
      "execution_count": 6,
      "outputs": [
        {
          "output_type": "execute_result",
          "data": {
            "text/plain": [
              "[52, 2, 62, 29, 93, 34, 69, 56, 18, 95]"
            ]
          },
          "metadata": {},
          "execution_count": 6
        }
      ]
    },
    {
      "cell_type": "code",
      "source": [
        "list_rand.sort()\n",
        "\n",
        "list_rand\n"
      ],
      "metadata": {
        "colab": {
          "base_uri": "https://localhost:8080/"
        },
        "id": "XRQILOUgevn1",
        "outputId": "54d7d9d1-c080-4047-9360-db598200b021"
      },
      "execution_count": 9,
      "outputs": [
        {
          "output_type": "execute_result",
          "data": {
            "text/plain": [
              "[2, 18, 29, 34, 52, 56, 62, 69, 93, 95]"
            ]
          },
          "metadata": {},
          "execution_count": 9
        }
      ]
    },
    {
      "cell_type": "code",
      "source": [
        "list_rand.reverse()\n",
        "\n",
        "list_rand"
      ],
      "metadata": {
        "colab": {
          "base_uri": "https://localhost:8080/"
        },
        "id": "9CVOShSdfJPU",
        "outputId": "4e497fc0-e166-4d1c-d14a-652741dc3ab8"
      },
      "execution_count": 10,
      "outputs": [
        {
          "output_type": "execute_result",
          "data": {
            "text/plain": [
              "[95, 93, 69, 62, 56, 52, 34, 29, 18, 2]"
            ]
          },
          "metadata": {},
          "execution_count": 10
        }
      ]
    },
    {
      "cell_type": "code",
      "source": [
        "min(list_rand)\n",
        "\n"
      ],
      "metadata": {
        "colab": {
          "base_uri": "https://localhost:8080/"
        },
        "id": "iPYyyoCDfaHU",
        "outputId": "c0c8f288-318d-45d6-f27c-b07c2d61818b"
      },
      "execution_count": 13,
      "outputs": [
        {
          "output_type": "execute_result",
          "data": {
            "text/plain": [
              "2"
            ]
          },
          "metadata": {},
          "execution_count": 13
        }
      ]
    },
    {
      "cell_type": "code",
      "source": [
        "max(list_rand)"
      ],
      "metadata": {
        "colab": {
          "base_uri": "https://localhost:8080/"
        },
        "id": "l6jjFcU4fkzh",
        "outputId": "6946b078-e06d-4fd7-c121-50d81690039d"
      },
      "execution_count": 14,
      "outputs": [
        {
          "output_type": "execute_result",
          "data": {
            "text/plain": [
              "95"
            ]
          },
          "metadata": {},
          "execution_count": 14
        }
      ]
    },
    {
      "cell_type": "code",
      "source": [
        "acao = input(\"Insira a ação que deseja comprar: \")"
      ],
      "metadata": {
        "colab": {
          "base_uri": "https://localhost:8080/"
        },
        "id": "L7zQZ_1kfzO2",
        "outputId": "588bb85d-6410-479a-9fc4-004522ebd985"
      },
      "execution_count": 18,
      "outputs": [
        {
          "name": "stdout",
          "output_type": "stream",
          "text": [
            "Insira a ação que deseja comprar: PETR4\n"
          ]
        }
      ]
    },
    {
      "cell_type": "code",
      "source": [
        "acao\n"
      ],
      "metadata": {
        "colab": {
          "base_uri": "https://localhost:8080/",
          "height": 36
        },
        "id": "J7x8mjULgC-n",
        "outputId": "5c9e8bba-0573-43ff-cb93-7a9fb8a236c6"
      },
      "execution_count": 20,
      "outputs": [
        {
          "output_type": "execute_result",
          "data": {
            "text/plain": [
              "'PETR4'"
            ],
            "application/vnd.google.colaboratory.intrinsic+json": {
              "type": "string"
            }
          },
          "metadata": {},
          "execution_count": 20
        }
      ]
    },
    {
      "cell_type": "code",
      "source": [
        "print(f'O cliente desja comprar a ação {acao}')"
      ],
      "metadata": {
        "colab": {
          "base_uri": "https://localhost:8080/"
        },
        "id": "YrGGmTh5gNyI",
        "outputId": "726e3870-09d0-4782-98f0-fa9aa86c103e"
      },
      "execution_count": 21,
      "outputs": [
        {
          "output_type": "stream",
          "name": "stdout",
          "text": [
            "O cliente desja comprar a ação PETR4\n"
          ]
        }
      ]
    },
    {
      "cell_type": "markdown",
      "source": [
        "# 12 List Comprehension (Compreensão de lista)\n"
      ],
      "metadata": {
        "id": "ktZLVgDvgXNR"
      }
    },
    {
      "cell_type": "code",
      "source": [
        "acao = 'MGLU3'"
      ],
      "metadata": {
        "id": "UhV8qQzMgjaU"
      },
      "execution_count": 34,
      "outputs": []
    },
    {
      "cell_type": "code",
      "source": [
        "lista_caracteres = []"
      ],
      "metadata": {
        "id": "OKq6lyBWg_39"
      },
      "execution_count": 35,
      "outputs": []
    },
    {
      "cell_type": "code",
      "source": [
        "for i in acao:\n",
        "  lista_caracteres.append(i)"
      ],
      "metadata": {
        "id": "dTY3146Sg1hn"
      },
      "execution_count": 36,
      "outputs": []
    },
    {
      "cell_type": "markdown",
      "source": [
        "## Aula 04"
      ],
      "metadata": {
        "id": "mxWOVjfi8_Lr"
      }
    },
    {
      "cell_type": "code",
      "source": [
        "from random import randint, shuffle"
      ],
      "metadata": {
        "id": "CtuLjXbn6woX"
      },
      "execution_count": null,
      "outputs": []
    },
    {
      "cell_type": "code",
      "source": [
        "randint(0,100)"
      ],
      "metadata": {
        "colab": {
          "base_uri": "https://localhost:8080/"
        },
        "id": "yp3K8REC66_R",
        "outputId": "dfe7ad47-834e-4b49-a32c-b5c549c2a32d"
      },
      "execution_count": null,
      "outputs": [
        {
          "output_type": "execute_result",
          "data": {
            "text/plain": [
              "64"
            ]
          },
          "metadata": {},
          "execution_count": 2
        }
      ]
    },
    {
      "cell_type": "code",
      "source": [
        "list_rand = []\n",
        "\n",
        "for i in range(0,10):\n",
        "  list_rand.append(randint(0,100))"
      ],
      "metadata": {
        "id": "YFA7Wj727BHh"
      },
      "execution_count": null,
      "outputs": []
    },
    {
      "cell_type": "code",
      "source": [
        "list_rand"
      ],
      "metadata": {
        "colab": {
          "base_uri": "https://localhost:8080/"
        },
        "id": "Z70DHdl37ezS",
        "outputId": "f015f1a5-8684-4cb9-a7a0-ba25e96e586e"
      },
      "execution_count": null,
      "outputs": [
        {
          "output_type": "execute_result",
          "data": {
            "text/plain": [
              "[11, 100, 33, 51, 87, 76, 17, 81, 95, 48]"
            ]
          },
          "metadata": {},
          "execution_count": 5
        }
      ]
    },
    {
      "cell_type": "code",
      "source": [
        "list_rand.reverse()\n",
        "\n"
      ],
      "metadata": {
        "id": "kLwIgQqV7rqY"
      },
      "execution_count": null,
      "outputs": []
    },
    {
      "cell_type": "code",
      "source": [
        "list_rand.sort()"
      ],
      "metadata": {
        "id": "5iXYfJQ378YZ"
      },
      "execution_count": null,
      "outputs": []
    },
    {
      "cell_type": "code",
      "source": [
        "list_rand"
      ],
      "metadata": {
        "colab": {
          "base_uri": "https://localhost:8080/"
        },
        "id": "avDKc0Ii8Kns",
        "outputId": "d242cb49-8dd5-4f7f-87ba-40e2cfd04745"
      },
      "execution_count": null,
      "outputs": [
        {
          "output_type": "execute_result",
          "data": {
            "text/plain": [
              "[11, 17, 33, 48, 51, 76, 81, 87, 95, 100]"
            ]
          },
          "metadata": {},
          "execution_count": 15
        }
      ]
    },
    {
      "cell_type": "code",
      "source": [
        "list_rand.reverse()"
      ],
      "metadata": {
        "id": "dQwhliGD8Ojy"
      },
      "execution_count": null,
      "outputs": []
    },
    {
      "cell_type": "code",
      "source": [
        "list_rand"
      ],
      "metadata": {
        "colab": {
          "base_uri": "https://localhost:8080/"
        },
        "id": "BeP5JGUe8TuN",
        "outputId": "5ee0c842-3dac-4a3f-a8ea-5a3d5b6e1769"
      },
      "execution_count": null,
      "outputs": [
        {
          "output_type": "execute_result",
          "data": {
            "text/plain": [
              "[100, 95, 87, 81, 76, 51, 48, 33, 17, 11]"
            ]
          },
          "metadata": {},
          "execution_count": 17
        }
      ]
    },
    {
      "cell_type": "code",
      "source": [
        "shuffle(list_rand)"
      ],
      "metadata": {
        "id": "osOxMCKa8XWq"
      },
      "execution_count": null,
      "outputs": []
    },
    {
      "cell_type": "code",
      "source": [
        "list_rand"
      ],
      "metadata": {
        "colab": {
          "base_uri": "https://localhost:8080/"
        },
        "id": "JhwW7qeE8fZC",
        "outputId": "15c8e2dc-90a4-4041-e7e3-8cb5e5ef09ce"
      },
      "execution_count": null,
      "outputs": [
        {
          "output_type": "execute_result",
          "data": {
            "text/plain": [
              "[87, 81, 17, 76, 33, 100, 95, 48, 51, 11]"
            ]
          },
          "metadata": {},
          "execution_count": 20
        }
      ]
    },
    {
      "cell_type": "code",
      "source": [
        "min(list_rand)"
      ],
      "metadata": {
        "colab": {
          "base_uri": "https://localhost:8080/"
        },
        "id": "s347aBFQ8sgK",
        "outputId": "9d3fd121-59c2-4516-c603-b0bc7ffd1a4d"
      },
      "execution_count": null,
      "outputs": [
        {
          "output_type": "execute_result",
          "data": {
            "text/plain": [
              "11"
            ]
          },
          "metadata": {},
          "execution_count": 21
        }
      ]
    },
    {
      "cell_type": "code",
      "source": [
        "max(list_rand)"
      ],
      "metadata": {
        "colab": {
          "base_uri": "https://localhost:8080/"
        },
        "id": "ZLrRqkHX8vVi",
        "outputId": "4a073e01-5e31-43cf-d4e9-27e40ce0ed03"
      },
      "execution_count": null,
      "outputs": [
        {
          "output_type": "execute_result",
          "data": {
            "text/plain": [
              "100"
            ]
          },
          "metadata": {},
          "execution_count": 22
        }
      ]
    },
    {
      "cell_type": "code",
      "source": [
        ""
      ],
      "metadata": {
        "id": "IchAdAQx81EU"
      },
      "execution_count": null,
      "outputs": []
    },
    {
      "cell_type": "markdown",
      "source": [
        "## 12 List Comprehension"
      ],
      "metadata": {
        "id": "eQlwHwgd9kxW"
      }
    },
    {
      "cell_type": "code",
      "source": [
        "acao = 'MGLU3'"
      ],
      "metadata": {
        "id": "Zima9yhE9uc1"
      },
      "execution_count": null,
      "outputs": []
    },
    {
      "cell_type": "code",
      "source": [
        "lista_caracteres = []\n",
        "\n",
        "for caractere in acao:\n",
        "  lista_caracteres.append(caractere)\n",
        "\n",
        "lista_caracteres*2"
      ],
      "metadata": {
        "colab": {
          "base_uri": "https://localhost:8080/"
        },
        "id": "CND0-CLW98cF",
        "outputId": "24f9111f-fa5b-4ae6-e635-b3f7df78bf53"
      },
      "execution_count": null,
      "outputs": [
        {
          "output_type": "execute_result",
          "data": {
            "text/plain": [
              "['M', 'G', 'L', 'U', '3', 'M', 'G', 'L', 'U', '3']"
            ]
          },
          "metadata": {},
          "execution_count": 30
        }
      ]
    },
    {
      "cell_type": "code",
      "source": [
        "ativos = ['MGLU' , 'VALE' , 'WEGE' , 'LREN']\n",
        "\n"
      ],
      "metadata": {
        "id": "tSPZrMmS_XIS"
      },
      "execution_count": 48,
      "outputs": []
    },
    {
      "cell_type": "markdown",
      "source": [
        "novos_ativos = []\n",
        "\n",
        "for ativo in ativos:\n",
        "  novos_ativos.append(ativo - '3')"
      ],
      "metadata": {
        "id": "uWaDb01eAl4K"
      }
    },
    {
      "cell_type": "code",
      "source": [
        "novos_ativos"
      ],
      "metadata": {
        "colab": {
          "base_uri": "https://localhost:8080/"
        },
        "id": "JaIU8h50A0L-",
        "outputId": "723ca259-c459-4fe8-9a07-e12b472cd927"
      },
      "execution_count": 53,
      "outputs": [
        {
          "output_type": "execute_result",
          "data": {
            "text/plain": [
              "[]"
            ]
          },
          "metadata": {},
          "execution_count": 53
        }
      ]
    },
    {
      "cell_type": "code",
      "source": [
        "[ativo + '3' for ativo in ativos] "
      ],
      "metadata": {
        "colab": {
          "base_uri": "https://localhost:8080/"
        },
        "id": "ZomB2csIA4HB",
        "outputId": "b82491fb-19d0-4bd3-8721-43106dcf4e7b"
      },
      "execution_count": 54,
      "outputs": [
        {
          "output_type": "execute_result",
          "data": {
            "text/plain": [
              "['MGLU3', 'VALE3', 'WEGE3', 'LREN3']"
            ]
          },
          "metadata": {},
          "execution_count": 54
        }
      ]
    },
    {
      "cell_type": "code",
      "source": [
        "range(1,11)\n",
        "\n",
        "list(range(0,11))"
      ],
      "metadata": {
        "colab": {
          "base_uri": "https://localhost:8080/"
        },
        "id": "h4OqUeK_CTni",
        "outputId": "b109d54b-ce15-4b67-8890-1e9f81da101e"
      },
      "execution_count": null,
      "outputs": [
        {
          "output_type": "execute_result",
          "data": {
            "text/plain": [
              "[0, 1, 2, 3, 4, 5, 6, 7, 8, 9, 10]"
            ]
          },
          "metadata": {},
          "execution_count": 65
        }
      ]
    },
    {
      "cell_type": "code",
      "source": [
        "[num**2 for num in range(0,11)]"
      ],
      "metadata": {
        "colab": {
          "base_uri": "https://localhost:8080/"
        },
        "id": "wxj_qwO-ET7E",
        "outputId": "b37258ad-35a5-4d4d-a7be-588ff4c1a243"
      },
      "execution_count": null,
      "outputs": [
        {
          "output_type": "execute_result",
          "data": {
            "text/plain": [
              "[0, 1, 4, 9, 16, 25, 36, 49, 64, 81, 100]"
            ]
          },
          "metadata": {},
          "execution_count": 69
        }
      ]
    },
    {
      "cell_type": "markdown",
      "source": [
        "**13. Funções e métodos**\n"
      ],
      "metadata": {
        "id": "RXNmEpG_E9fQ"
      }
    },
    {
      "cell_type": "code",
      "source": [
        "def tempo_hoje():\n",
        "  print('Hoje faz sol')"
      ],
      "metadata": {
        "id": "GVmFzDRVFEJk"
      },
      "execution_count": null,
      "outputs": []
    },
    {
      "cell_type": "code",
      "source": [
        "tempo_hoje()"
      ],
      "metadata": {
        "colab": {
          "base_uri": "https://localhost:8080/"
        },
        "id": "yit_aVk9FPXC",
        "outputId": "fa43bb14-73b4-4e9f-97c5-714ec520608c"
      },
      "execution_count": null,
      "outputs": [
        {
          "output_type": "stream",
          "name": "stdout",
          "text": [
            "Hoje faz sol\n"
          ]
        }
      ]
    },
    {
      "cell_type": "code",
      "source": [
        "def soma_numero(num1, num2):\n",
        "  soma = num1 + num2\n",
        "  return soma"
      ],
      "metadata": {
        "id": "G_6uW7KPFx5B"
      },
      "execution_count": 56,
      "outputs": []
    },
    {
      "cell_type": "code",
      "source": [
        "novo_objeto = soma_numero(2,3)"
      ],
      "metadata": {
        "id": "qtF4iFkEF-Nt"
      },
      "execution_count": 57,
      "outputs": []
    },
    {
      "cell_type": "code",
      "source": [
        "novo_objeto"
      ],
      "metadata": {
        "colab": {
          "base_uri": "https://localhost:8080/"
        },
        "id": "CUYI9FfdGMzM",
        "outputId": "4dfa351f-3f76-4815-99fc-097de5bb456a"
      },
      "execution_count": 58,
      "outputs": [
        {
          "output_type": "execute_result",
          "data": {
            "text/plain": [
              "5"
            ]
          },
          "metadata": {},
          "execution_count": 58
        }
      ]
    },
    {
      "cell_type": "markdown",
      "source": [
        ""
      ],
      "metadata": {
        "id": "Hf7h_7u3VUDD"
      }
    },
    {
      "cell_type": "code",
      "source": [
        "novo_objeto = soma_numero(3050 , 1000)"
      ],
      "metadata": {
        "id": "ac7uYFSTGUQa"
      },
      "execution_count": 60,
      "outputs": []
    },
    {
      "cell_type": "code",
      "source": [
        "novo_objeto"
      ],
      "metadata": {
        "colab": {
          "base_uri": "https://localhost:8080/"
        },
        "id": "UKWhTejzqpEj",
        "outputId": "2b8afa64-9607-42ce-90ac-ff631136ac07"
      },
      "execution_count": 61,
      "outputs": [
        {
          "output_type": "execute_result",
          "data": {
            "text/plain": [
              "4050"
            ]
          },
          "metadata": {},
          "execution_count": 61
        }
      ]
    },
    {
      "cell_type": "code",
      "source": [
        "def preco(acao):\n",
        "\n",
        "  '''Essa Função retorna a cotação em tempo real'''\n",
        "  \n",
        "  if(acao == 'PETR4'):\n",
        "    print('O preço do papel agora é R$ 30,89')\n",
        "  elif (acao == 'VALE3'):\n",
        "    print('O preço do papel agora é R$ 48,50')\n",
        "  elif (acao == 'MGLU3'):\n",
        "    print('O preço do papel agora é R$ 8,50')\n",
        "  else: \n",
        "    print('Papel desconhecido')"
      ],
      "metadata": {
        "id": "d-s3QoJUrIsn"
      },
      "execution_count": 73,
      "outputs": []
    },
    {
      "cell_type": "code",
      "source": [
        "preco('')"
      ],
      "metadata": {
        "colab": {
          "base_uri": "https://localhost:8080/"
        },
        "id": "6CL0n6gWr_WY",
        "outputId": "295aa058-2026-4300-9e60-ccb0c8850487"
      },
      "execution_count": 74,
      "outputs": [
        {
          "output_type": "stream",
          "name": "stdout",
          "text": [
            "Papel desconhecido\n"
          ]
        }
      ]
    },
    {
      "cell_type": "markdown",
      "source": [
        "***Metodo***"
      ],
      "metadata": {
        "id": "lB9rEeDAtG0l"
      }
    },
    {
      "cell_type": "code",
      "source": [
        "numeros = [1, 2 , 3 , 4 , 5]"
      ],
      "metadata": {
        "id": "oixnAKRttMgO"
      },
      "execution_count": 75,
      "outputs": []
    },
    {
      "cell_type": "code",
      "source": [
        "numeros.append(10)"
      ],
      "metadata": {
        "id": "xSRR_KHstV9N"
      },
      "execution_count": 78,
      "outputs": []
    },
    {
      "cell_type": "code",
      "source": [
        "numeros"
      ],
      "metadata": {
        "colab": {
          "base_uri": "https://localhost:8080/"
        },
        "id": "1FWFZFSFtcUL",
        "outputId": "838fc0b3-bcaa-4e17-d79e-8f0d4087314a"
      },
      "execution_count": 79,
      "outputs": [
        {
          "output_type": "execute_result",
          "data": {
            "text/plain": [
              "[1, 2, 3, 4, 5, 5, 10]"
            ]
          },
          "metadata": {},
          "execution_count": 79
        }
      ]
    },
    {
      "cell_type": "markdown",
      "source": [
        "# 14. Funções embutidas \n",
        "\n"
      ],
      "metadata": {
        "id": "bAjP5FHHtqGW"
      }
    },
    {
      "cell_type": "markdown",
      "source": [
        "## 14.1 Map"
      ],
      "metadata": {
        "id": "EiMEd3kYt8JD"
      }
    },
    {
      "cell_type": "code",
      "source": [
        "def potencia(num, pot =2):\n",
        "  return num**pot"
      ],
      "metadata": {
        "id": "2_FEAW40uZTK"
      },
      "execution_count": 84,
      "outputs": []
    },
    {
      "cell_type": "code",
      "source": [
        "potencia(9)"
      ],
      "metadata": {
        "colab": {
          "base_uri": "https://localhost:8080/"
        },
        "id": "ZSHppt9quxRz",
        "outputId": "d6d1da1e-27a5-4177-a77e-7dccebc9756e"
      },
      "execution_count": 85,
      "outputs": [
        {
          "output_type": "execute_result",
          "data": {
            "text/plain": [
              "81"
            ]
          },
          "metadata": {},
          "execution_count": 85
        }
      ]
    },
    {
      "cell_type": "code",
      "source": [
        "lista_numeros = [1,2,3,4,5]"
      ],
      "metadata": {
        "id": "ECmdndfQvO69"
      },
      "execution_count": 88,
      "outputs": []
    },
    {
      "cell_type": "code",
      "source": [
        "list(map(potencia, lista_numeros))"
      ],
      "metadata": {
        "colab": {
          "base_uri": "https://localhost:8080/"
        },
        "id": "x5iN99PJvJeD",
        "outputId": "a5ba204b-f570-4921-b2b9-a284b83e5803"
      },
      "execution_count": 90,
      "outputs": [
        {
          "output_type": "execute_result",
          "data": {
            "text/plain": [
              "[1, 4, 9, 16, 25]"
            ]
          },
          "metadata": {},
          "execution_count": 90
        }
      ]
    },
    {
      "cell_type": "markdown",
      "source": [
        "## 14.2 Filter"
      ],
      "metadata": {
        "id": "KCUEhAB-uA1j"
      }
    },
    {
      "cell_type": "code",
      "source": [
        "def checar_par(num):\n",
        "  return num % 2 == 0"
      ],
      "metadata": {
        "id": "gynmgbDqv4-d"
      },
      "execution_count": 101,
      "outputs": []
    },
    {
      "cell_type": "code",
      "source": [
        "checar_par(2)"
      ],
      "metadata": {
        "colab": {
          "base_uri": "https://localhost:8080/"
        },
        "id": "hOVMpPE7wHC1",
        "outputId": "fedecb30-f503-4805-e6ba-1a16020cd223"
      },
      "execution_count": 102,
      "outputs": [
        {
          "output_type": "execute_result",
          "data": {
            "text/plain": [
              "True"
            ]
          },
          "metadata": {},
          "execution_count": 102
        }
      ]
    },
    {
      "cell_type": "code",
      "source": [
        "checar_par(5)"
      ],
      "metadata": {
        "colab": {
          "base_uri": "https://localhost:8080/"
        },
        "id": "Rfpx7UtGwglN",
        "outputId": "7ba0432d-1b11-45d9-8b6a-b89c1af32d48"
      },
      "execution_count": 103,
      "outputs": [
        {
          "output_type": "execute_result",
          "data": {
            "text/plain": [
              "False"
            ]
          },
          "metadata": {},
          "execution_count": 103
        }
      ]
    },
    {
      "cell_type": "code",
      "source": [
        "list(filter(checar_par, lista_numeros))"
      ],
      "metadata": {
        "colab": {
          "base_uri": "https://localhost:8080/"
        },
        "id": "EQEZ6F7bwpsp",
        "outputId": "582e6353-3c71-459c-8dc3-73bcda34c872"
      },
      "execution_count": 107,
      "outputs": [
        {
          "output_type": "execute_result",
          "data": {
            "text/plain": [
              "[2, 4]"
            ]
          },
          "metadata": {},
          "execution_count": 107
        }
      ]
    },
    {
      "cell_type": "markdown",
      "source": [
        "# 15. Funcções Lambda - Funcões Anônimas\n"
      ],
      "metadata": {
        "id": "I7UIaKHTxDrP"
      }
    },
    {
      "cell_type": "code",
      "source": [
        "def quadrado(num):\n",
        "  return num**2"
      ],
      "metadata": {
        "id": "DB25OVXrxU7w"
      },
      "execution_count": 108,
      "outputs": []
    },
    {
      "cell_type": "code",
      "source": [
        "quadrado(4)"
      ],
      "metadata": {
        "colab": {
          "base_uri": "https://localhost:8080/"
        },
        "id": "1iA9GEUnxbWT",
        "outputId": "860f6202-6f18-4244-993f-b5b31a26d740"
      },
      "execution_count": 109,
      "outputs": [
        {
          "output_type": "execute_result",
          "data": {
            "text/plain": [
              "16"
            ]
          },
          "metadata": {},
          "execution_count": 109
        }
      ]
    },
    {
      "cell_type": "code",
      "source": [
        "quadrado_lambda = lambda num: num**2"
      ],
      "metadata": {
        "id": "bdfMgysixhTn"
      },
      "execution_count": 112,
      "outputs": []
    },
    {
      "cell_type": "code",
      "source": [
        "quadrado_lambda(4)"
      ],
      "metadata": {
        "colab": {
          "base_uri": "https://localhost:8080/"
        },
        "id": "P6f4AkmEx0M9",
        "outputId": "fec3a7a4-a7b5-42f1-de68-13984c7bf74e"
      },
      "execution_count": 113,
      "outputs": [
        {
          "output_type": "execute_result",
          "data": {
            "text/plain": [
              "16"
            ]
          },
          "metadata": {},
          "execution_count": 113
        }
      ]
    },
    {
      "cell_type": "code",
      "source": [
        "list(filter(lambda num:  num%2 == 0, lista_numeros))"
      ],
      "metadata": {
        "colab": {
          "base_uri": "https://localhost:8080/"
        },
        "id": "KapU-noJyGnP",
        "outputId": "46caf30a-7d20-4332-bf0d-1749e6a48e88"
      },
      "execution_count": 114,
      "outputs": [
        {
          "output_type": "execute_result",
          "data": {
            "text/plain": [
              "[2, 4]"
            ]
          },
          "metadata": {},
          "execution_count": 114
        }
      ]
    },
    {
      "cell_type": "markdown",
      "source": [
        "# 16. Escopo das Variáveis\n",
        "\n",
        " "
      ],
      "metadata": {
        "id": "XB59k3sEyTrq"
      }
    },
    {
      "cell_type": "code",
      "source": [
        "  "
      ],
      "metadata": {
        "id": "N0E_cD8qyZiL"
      },
      "execution_count": null,
      "outputs": []
    },
    {
      "cell_type": "markdown",
      "source": [
        "# 17. Args"
      ],
      "metadata": {
        "id": "t05xCeuZzRFO"
      }
    },
    {
      "cell_type": "code",
      "source": [
        "def soma_varios(*bet):\n",
        "  soma = sum((bet))\n",
        "  return soma"
      ],
      "metadata": {
        "id": "P_U5TF7dzWTP"
      },
      "execution_count": 17,
      "outputs": []
    },
    {
      "cell_type": "code",
      "source": [
        "soma_varios(5,10,20,40,3,-5)\n"
      ],
      "metadata": {
        "colab": {
          "base_uri": "https://localhost:8080/"
        },
        "id": "psk6g4VVxAbN",
        "outputId": "e54306bd-77b7-44bf-a82f-1e0121fe0d48"
      },
      "execution_count": 20,
      "outputs": [
        {
          "output_type": "execute_result",
          "data": {
            "text/plain": [
              "73"
            ]
          },
          "metadata": {},
          "execution_count": 20
        }
      ]
    },
    {
      "cell_type": "markdown",
      "source": [
        "# 18.kwqrgs"
      ],
      "metadata": {
        "id": "w3S9spC0yfeb"
      }
    },
    {
      "cell_type": "code",
      "source": [
        "def compra_de_acoes(**kwargs):\n",
        "  if 'acao' in kwargs:\n",
        "    print('A ação comprada foi', kwargs['acao'])\n",
        "  else:\n",
        "    print('o cliente não investe em ações')"
      ],
      "metadata": {
        "id": "28uy6mOhyjVc"
      },
      "execution_count": 30,
      "outputs": []
    },
    {
      "cell_type": "code",
      "source": [
        "compra_de_acoes(acao = 'MGLU3')"
      ],
      "metadata": {
        "colab": {
          "base_uri": "https://localhost:8080/"
        },
        "id": "O6dgbKqiz0q8",
        "outputId": "b464c20a-0c2c-4a8a-ba0a-846111eb59b7"
      },
      "execution_count": 31,
      "outputs": [
        {
          "output_type": "stream",
          "name": "stdout",
          "text": [
            "A ação comprada foi MGLU3\n"
          ]
        }
      ]
    },
    {
      "cell_type": "code",
      "source": [
        "compra_de_acoes()"
      ],
      "metadata": {
        "colab": {
          "base_uri": "https://localhost:8080/"
        },
        "id": "hvdQ0iurz-Xh",
        "outputId": "aa37f394-6473-4610-f18b-25f9edf9ee6d"
      },
      "execution_count": 32,
      "outputs": [
        {
          "output_type": "stream",
          "name": "stdout",
          "text": [
            "o cliente não investe em ações\n"
          ]
        }
      ]
    },
    {
      "cell_type": "code",
      "source": [
        "def montagem_posicao(*args, **kwargs):\n",
        "  if 'acao' and 'lote' in kwargs:\n",
        "    print('O cliente montou uma posição', ' e '.join(kwargs['acao']))\n",
        "    print('Ele comprou', ' e '.join(args), 'papéis respectivamente')\n",
        "    print('Todas elas foram compradas no lote', kwargs['lote'])"
      ],
      "metadata": {
        "id": "7ExmjjLP1FdH"
      },
      "execution_count": 45,
      "outputs": []
    },
    {
      "cell_type": "code",
      "source": [
        "montagem_posicao('100','200','300', acao = ('VALE3', 'MGLU3', 'PTRO3'), lote = 'inteiro')"
      ],
      "metadata": {
        "colab": {
          "base_uri": "https://localhost:8080/"
        },
        "id": "rEIo_W9i2FXF",
        "outputId": "01596e9e-c3fe-477c-e6bb-8491ca241f4d"
      },
      "execution_count": 46,
      "outputs": [
        {
          "output_type": "stream",
          "name": "stdout",
          "text": [
            "O cliente montou uma posição VALE3 e MGLU3 e PTRO3\n",
            "Ele comprou 100 e 200 e 300 papéis respectivamente\n",
            "Todas elas foram compradas no lote inteiro\n"
          ]
        }
      ]
    },
    {
      "cell_type": "markdown",
      "source": [
        "# 19.Trabalhando com Bibliotecas\n"
      ],
      "metadata": {
        "id": "HB3r_iTh6o3E"
      }
    },
    {
      "cell_type": "code",
      "source": [
        "import numpy as np\n",
        "import pandas as pd"
      ],
      "metadata": {
        "id": "Hb46WBCT6zUz"
      },
      "execution_count": 2,
      "outputs": []
    },
    {
      "cell_type": "code",
      "source": [
        "a = np.zeros(5)"
      ],
      "metadata": {
        "id": "1zCaLJ3w6wOv"
      },
      "execution_count": 49,
      "outputs": []
    },
    {
      "cell_type": "code",
      "source": [
        "a"
      ],
      "metadata": {
        "colab": {
          "base_uri": "https://localhost:8080/"
        },
        "id": "n70sIP3a7xr9",
        "outputId": "a84e4d99-e969-4335-99b5-7f7202177af1"
      },
      "execution_count": 50,
      "outputs": [
        {
          "output_type": "execute_result",
          "data": {
            "text/plain": [
              "array([0., 0., 0., 0., 0.])"
            ]
          },
          "metadata": {},
          "execution_count": 50
        }
      ]
    },
    {
      "cell_type": "code",
      "source": [
        "a.shape"
      ],
      "metadata": {
        "colab": {
          "base_uri": "https://localhost:8080/"
        },
        "id": "m_UbxCws78mx",
        "outputId": "b68fb029-7ac4-4be2-b1ec-a7873cbc5775"
      },
      "execution_count": 51,
      "outputs": [
        {
          "output_type": "execute_result",
          "data": {
            "text/plain": [
              "(5,)"
            ]
          },
          "metadata": {},
          "execution_count": 51
        }
      ]
    },
    {
      "cell_type": "code",
      "source": [
        "a.shape = (5,1)"
      ],
      "metadata": {
        "id": "3DYuYjaK8CJC"
      },
      "execution_count": 61,
      "outputs": []
    },
    {
      "cell_type": "code",
      "source": [
        "a.shape"
      ],
      "metadata": {
        "colab": {
          "base_uri": "https://localhost:8080/"
        },
        "id": "y3GvynFb8I3A",
        "outputId": "28fb6c63-ab8b-4a00-d4c3-243b5081c555"
      },
      "execution_count": 54,
      "outputs": [
        {
          "output_type": "execute_result",
          "data": {
            "text/plain": [
              "(5, 1)"
            ]
          },
          "metadata": {},
          "execution_count": 54
        }
      ]
    },
    {
      "cell_type": "code",
      "source": [
        "a"
      ],
      "metadata": {
        "colab": {
          "base_uri": "https://localhost:8080/"
        },
        "id": "zbE4d_8Q8M4w",
        "outputId": "9ce469df-cf05-4ae3-9ae4-fffb865ceb68"
      },
      "execution_count": 62,
      "outputs": [
        {
          "output_type": "execute_result",
          "data": {
            "text/plain": [
              "array([[0.],\n",
              "       [0.],\n",
              "       [0.],\n",
              "       [0.],\n",
              "       [0.]])"
            ]
          },
          "metadata": {},
          "execution_count": 62
        }
      ]
    },
    {
      "cell_type": "code",
      "source": [
        "b = np.ones(10)"
      ],
      "metadata": {
        "id": "zD4MwVIt8rPw"
      },
      "execution_count": 64,
      "outputs": []
    },
    {
      "cell_type": "code",
      "source": [
        "b"
      ],
      "metadata": {
        "colab": {
          "base_uri": "https://localhost:8080/"
        },
        "id": "yd6AS_Wf8zf1",
        "outputId": "d4926ae1-ca48-4e97-d9a3-00c3c2488f3c"
      },
      "execution_count": 65,
      "outputs": [
        {
          "output_type": "execute_result",
          "data": {
            "text/plain": [
              "array([1., 1., 1., 1., 1., 1., 1., 1., 1., 1.])"
            ]
          },
          "metadata": {},
          "execution_count": 65
        }
      ]
    },
    {
      "cell_type": "code",
      "source": [
        "c = np.empty(3)"
      ],
      "metadata": {
        "id": "hXMhTA2681nS"
      },
      "execution_count": 4,
      "outputs": []
    },
    {
      "cell_type": "code",
      "source": [
        "c"
      ],
      "metadata": {
        "colab": {
          "base_uri": "https://localhost:8080/"
        },
        "id": "lKs8nEZhw_TW",
        "outputId": "9e27db2d-efec-43e0-ce2d-f84f637696a2"
      },
      "execution_count": 5,
      "outputs": [
        {
          "output_type": "execute_result",
          "data": {
            "text/plain": [
              "array([0.75, 0.75, 0.  ])"
            ]
          },
          "metadata": {},
          "execution_count": 5
        }
      ]
    },
    {
      "cell_type": "code",
      "source": [
        "d = np.linspace(3, 15 , 10)"
      ],
      "metadata": {
        "id": "rUIe4ELixQ-Q"
      },
      "execution_count": 6,
      "outputs": []
    },
    {
      "cell_type": "code",
      "source": [
        "d"
      ],
      "metadata": {
        "colab": {
          "base_uri": "https://localhost:8080/"
        },
        "id": "ZchtCtm0xY_F",
        "outputId": "b7e15718-dc17-41c6-e1e5-979b29addd86"
      },
      "execution_count": 7,
      "outputs": [
        {
          "output_type": "execute_result",
          "data": {
            "text/plain": [
              "array([ 3.        ,  4.33333333,  5.66666667,  7.        ,  8.33333333,\n",
              "        9.66666667, 11.        , 12.33333333, 13.66666667, 15.        ])"
            ]
          },
          "metadata": {},
          "execution_count": 7
        }
      ]
    },
    {
      "cell_type": "code",
      "source": [
        "listas_de_litas = [[1,2,3,4,5],[6,7,8,9,10]]"
      ],
      "metadata": {
        "id": "u4nUouMAx9un"
      },
      "execution_count": 8,
      "outputs": []
    },
    {
      "cell_type": "code",
      "source": [
        "h = np.array(listas_de_litas)"
      ],
      "metadata": {
        "id": "l-w7oKUtyLFl"
      },
      "execution_count": 9,
      "outputs": []
    },
    {
      "cell_type": "code",
      "source": [
        "h"
      ],
      "metadata": {
        "colab": {
          "base_uri": "https://localhost:8080/"
        },
        "id": "pQ3s7nbCyUSJ",
        "outputId": "c5ee853f-44fc-457a-d352-b12aaae144aa"
      },
      "execution_count": 10,
      "outputs": [
        {
          "output_type": "execute_result",
          "data": {
            "text/plain": [
              "array([[ 1,  2,  3,  4,  5],\n",
              "       [ 6,  7,  8,  9, 10]])"
            ]
          },
          "metadata": {},
          "execution_count": 10
        }
      ]
    },
    {
      "cell_type": "code",
      "source": [
        "np.random.seed(0)"
      ],
      "metadata": {
        "id": "hhtQfBVdzHlx"
      },
      "execution_count": 23,
      "outputs": []
    },
    {
      "cell_type": "code",
      "source": [
        "np.random.seed(0)\n",
        "np.random.randint(10, size = 6)"
      ],
      "metadata": {
        "colab": {
          "base_uri": "https://localhost:8080/"
        },
        "id": "Z5b8Xyv9yj_4",
        "outputId": "09e70658-d6a2-45a0-98f6-55160754dcbf"
      },
      "execution_count": 24,
      "outputs": [
        {
          "output_type": "execute_result",
          "data": {
            "text/plain": [
              "array([5, 0, 3, 3, 7, 9])"
            ]
          },
          "metadata": {},
          "execution_count": 24
        }
      ]
    },
    {
      "cell_type": "code",
      "source": [
        "a = np.random.randint(5, size = 10)"
      ],
      "metadata": {
        "id": "HQEckGgo0mAZ"
      },
      "execution_count": 25,
      "outputs": []
    },
    {
      "cell_type": "code",
      "source": [
        "a"
      ],
      "metadata": {
        "colab": {
          "base_uri": "https://localhost:8080/"
        },
        "id": "HlzeKo1-05hc",
        "outputId": "79b81c9b-24b0-4b91-85d3-ee07e2528016"
      },
      "execution_count": 26,
      "outputs": [
        {
          "output_type": "execute_result",
          "data": {
            "text/plain": [
              "array([3, 2, 4, 0, 0, 4, 2, 1, 0, 1])"
            ]
          },
          "metadata": {},
          "execution_count": 26
        }
      ]
    },
    {
      "cell_type": "code",
      "source": [
        "b = np.random.randint(5, size = 10)"
      ],
      "metadata": {
        "id": "ljsd7Lpc07gg"
      },
      "execution_count": 27,
      "outputs": []
    },
    {
      "cell_type": "code",
      "source": [
        "b"
      ],
      "metadata": {
        "colab": {
          "base_uri": "https://localhost:8080/"
        },
        "id": "k3Rm_AOd1CJM",
        "outputId": "e2a31adf-a43b-409a-f0dd-fc03a70013d2"
      },
      "execution_count": 28,
      "outputs": [
        {
          "output_type": "execute_result",
          "data": {
            "text/plain": [
              "array([1, 0, 1, 4, 3, 0, 3, 0, 2, 3])"
            ]
          },
          "metadata": {},
          "execution_count": 28
        }
      ]
    },
    {
      "cell_type": "code",
      "source": [
        "a + b"
      ],
      "metadata": {
        "colab": {
          "base_uri": "https://localhost:8080/"
        },
        "id": "dN78k2jD1ERG",
        "outputId": "6fbe27f1-b4af-4f88-c28e-6da0ceefd597"
      },
      "execution_count": 30,
      "outputs": [
        {
          "output_type": "execute_result",
          "data": {
            "text/plain": [
              "array([4, 2, 5, 4, 3, 4, 5, 1, 2, 4])"
            ]
          },
          "metadata": {},
          "execution_count": 30
        }
      ]
    },
    {
      "cell_type": "code",
      "source": [
        "np.subtract(a,b)"
      ],
      "metadata": {
        "colab": {
          "base_uri": "https://localhost:8080/"
        },
        "id": "BadaL3Vd1TZA",
        "outputId": "1960b4d3-9ce5-43f0-d5bf-455cdc67e8e9"
      },
      "execution_count": 31,
      "outputs": [
        {
          "output_type": "execute_result",
          "data": {
            "text/plain": [
              "array([ 2,  2,  3, -4, -3,  4, -1,  1, -2, -2])"
            ]
          },
          "metadata": {},
          "execution_count": 31
        }
      ]
    },
    {
      "cell_type": "code",
      "source": [
        "np.add(a,b)"
      ],
      "metadata": {
        "colab": {
          "base_uri": "https://localhost:8080/"
        },
        "id": "Cib97Mkw1dso",
        "outputId": "f4a38d11-6536-48ba-98e7-798758b6dc2e"
      },
      "execution_count": 32,
      "outputs": [
        {
          "output_type": "execute_result",
          "data": {
            "text/plain": [
              "array([4, 2, 5, 4, 3, 4, 5, 1, 2, 4])"
            ]
          },
          "metadata": {},
          "execution_count": 32
        }
      ]
    },
    {
      "cell_type": "code",
      "source": [
        "np.multiply(a,b)"
      ],
      "metadata": {
        "colab": {
          "base_uri": "https://localhost:8080/"
        },
        "id": "KI3YmKqT1rti",
        "outputId": "5440844a-7f66-4ffe-9d0f-7da7d6e992f4"
      },
      "execution_count": 33,
      "outputs": [
        {
          "output_type": "execute_result",
          "data": {
            "text/plain": [
              "array([3, 0, 4, 0, 0, 0, 6, 0, 0, 3])"
            ]
          },
          "metadata": {},
          "execution_count": 33
        }
      ]
    },
    {
      "cell_type": "code",
      "source": [
        "np.divide(a,b)"
      ],
      "metadata": {
        "colab": {
          "base_uri": "https://localhost:8080/"
        },
        "id": "bBk7mv5i1yNM",
        "outputId": "4e363235-1141-4fb4-b579-2b9d2944032f"
      },
      "execution_count": 34,
      "outputs": [
        {
          "output_type": "stream",
          "name": "stderr",
          "text": [
            "/usr/local/lib/python3.7/dist-packages/ipykernel_launcher.py:1: RuntimeWarning: divide by zero encountered in true_divide\n",
            "  \"\"\"Entry point for launching an IPython kernel.\n"
          ]
        },
        {
          "output_type": "execute_result",
          "data": {
            "text/plain": [
              "array([3.        ,        inf, 4.        , 0.        , 0.        ,\n",
              "              inf, 0.66666667,        inf, 0.        , 0.33333333])"
            ]
          },
          "metadata": {},
          "execution_count": 34
        }
      ]
    },
    {
      "cell_type": "markdown",
      "source": [
        "# 19.3  Pandas"
      ],
      "metadata": {
        "id": "w07V-qhH2Tcp"
      }
    },
    {
      "cell_type": "code",
      "source": [
        ""
      ],
      "metadata": {
        "id": "u5_16pJz2XHK"
      },
      "execution_count": null,
      "outputs": []
    }
  ]
}