{
  "nbformat": 4,
  "nbformat_minor": 0,
  "metadata": {
    "colab": {
      "name": "Módulo 2 - Obtenção de Dados",
      "provenance": [],
      "authorship_tag": "ABX9TyNXoROV3oFDjkFwhi9MKZWD",
      "include_colab_link": true
    },
    "kernelspec": {
      "name": "python3",
      "display_name": "Python 3"
    },
    "language_info": {
      "name": "python"
    }
  },
  "cells": [
    {
      "cell_type": "markdown",
      "metadata": {
        "id": "view-in-github",
        "colab_type": "text"
      },
      "source": [
        "<a href=\"https://colab.research.google.com/github/Jonas1611/cursomodalmais/blob/main/M%C3%B3dulo_2_Obten%C3%A7%C3%A3o_de_Dados.ipynb\" target=\"_parent\"><img src=\"https://colab.research.google.com/assets/colab-badge.svg\" alt=\"Open In Colab\"/></a>"
      ]
    },
    {
      "cell_type": "markdown",
      "source": [
        "# Módulo 2 - Obtenção de dados"
      ],
      "metadata": {
        "id": "BYq96oeoA0SJ"
      }
    },
    {
      "cell_type": "markdown",
      "source": [
        "**1. Bibliotecas**\n"
      ],
      "metadata": {
        "id": "dRExtn2KBLEv"
      }
    },
    {
      "cell_type": "code",
      "source": [
        "!pip install pandas numpy\n",
        "!pip install datetime\n",
        "!pip install matplotlib\n",
        "!pip install yfinance\n",
        "!pip install quandl"
      ],
      "metadata": {
        "colab": {
          "base_uri": "https://localhost:8080/"
        },
        "id": "KZi-bL1GA-pD",
        "outputId": "a07816be-89ad-4866-afca-1d84483d3323"
      },
      "execution_count": 1,
      "outputs": [
        {
          "output_type": "stream",
          "name": "stdout",
          "text": [
            "Looking in indexes: https://pypi.org/simple, https://us-python.pkg.dev/colab-wheels/public/simple/\n",
            "Requirement already satisfied: pandas in /usr/local/lib/python3.7/dist-packages (1.3.5)\n",
            "Requirement already satisfied: numpy in /usr/local/lib/python3.7/dist-packages (1.21.6)\n",
            "Requirement already satisfied: python-dateutil>=2.7.3 in /usr/local/lib/python3.7/dist-packages (from pandas) (2.8.2)\n",
            "Requirement already satisfied: pytz>=2017.3 in /usr/local/lib/python3.7/dist-packages (from pandas) (2022.1)\n",
            "Requirement already satisfied: six>=1.5 in /usr/local/lib/python3.7/dist-packages (from python-dateutil>=2.7.3->pandas) (1.15.0)\n",
            "Looking in indexes: https://pypi.org/simple, https://us-python.pkg.dev/colab-wheels/public/simple/\n",
            "Collecting datetime\n",
            "  Downloading DateTime-4.4-py2.py3-none-any.whl (51 kB)\n",
            "\u001b[K     |████████████████████████████████| 51 kB 453 kB/s \n",
            "\u001b[?25hCollecting zope.interface\n",
            "  Downloading zope.interface-5.4.0-cp37-cp37m-manylinux2010_x86_64.whl (251 kB)\n",
            "\u001b[K     |████████████████████████████████| 251 kB 10.2 MB/s \n",
            "\u001b[?25hRequirement already satisfied: pytz in /usr/local/lib/python3.7/dist-packages (from datetime) (2022.1)\n",
            "Requirement already satisfied: setuptools in /usr/local/lib/python3.7/dist-packages (from zope.interface->datetime) (57.4.0)\n",
            "Installing collected packages: zope.interface, datetime\n",
            "Successfully installed datetime-4.4 zope.interface-5.4.0\n",
            "Looking in indexes: https://pypi.org/simple, https://us-python.pkg.dev/colab-wheels/public/simple/\n",
            "Requirement already satisfied: matplotlib in /usr/local/lib/python3.7/dist-packages (3.2.2)\n",
            "Requirement already satisfied: numpy>=1.11 in /usr/local/lib/python3.7/dist-packages (from matplotlib) (1.21.6)\n",
            "Requirement already satisfied: cycler>=0.10 in /usr/local/lib/python3.7/dist-packages (from matplotlib) (0.11.0)\n",
            "Requirement already satisfied: kiwisolver>=1.0.1 in /usr/local/lib/python3.7/dist-packages (from matplotlib) (1.4.2)\n",
            "Requirement already satisfied: pyparsing!=2.0.4,!=2.1.2,!=2.1.6,>=2.0.1 in /usr/local/lib/python3.7/dist-packages (from matplotlib) (3.0.9)\n",
            "Requirement already satisfied: python-dateutil>=2.1 in /usr/local/lib/python3.7/dist-packages (from matplotlib) (2.8.2)\n",
            "Requirement already satisfied: typing-extensions in /usr/local/lib/python3.7/dist-packages (from kiwisolver>=1.0.1->matplotlib) (4.2.0)\n",
            "Requirement already satisfied: six>=1.5 in /usr/local/lib/python3.7/dist-packages (from python-dateutil>=2.1->matplotlib) (1.15.0)\n",
            "Looking in indexes: https://pypi.org/simple, https://us-python.pkg.dev/colab-wheels/public/simple/\n",
            "Collecting yfinance\n",
            "  Downloading yfinance-0.1.70-py2.py3-none-any.whl (26 kB)\n",
            "Requirement already satisfied: numpy>=1.15 in /usr/local/lib/python3.7/dist-packages (from yfinance) (1.21.6)\n",
            "Requirement already satisfied: pandas>=0.24.0 in /usr/local/lib/python3.7/dist-packages (from yfinance) (1.3.5)\n",
            "Collecting lxml>=4.5.1\n",
            "  Downloading lxml-4.9.0-cp37-cp37m-manylinux_2_17_x86_64.manylinux2014_x86_64.manylinux_2_24_x86_64.whl (6.4 MB)\n",
            "\u001b[K     |████████████████████████████████| 6.4 MB 7.1 MB/s \n",
            "\u001b[?25hCollecting requests>=2.26\n",
            "  Downloading requests-2.27.1-py2.py3-none-any.whl (63 kB)\n",
            "\u001b[K     |████████████████████████████████| 63 kB 1.8 MB/s \n",
            "\u001b[?25hRequirement already satisfied: multitasking>=0.0.7 in /usr/local/lib/python3.7/dist-packages (from yfinance) (0.0.10)\n",
            "Requirement already satisfied: pytz>=2017.3 in /usr/local/lib/python3.7/dist-packages (from pandas>=0.24.0->yfinance) (2022.1)\n",
            "Requirement already satisfied: python-dateutil>=2.7.3 in /usr/local/lib/python3.7/dist-packages (from pandas>=0.24.0->yfinance) (2.8.2)\n",
            "Requirement already satisfied: six>=1.5 in /usr/local/lib/python3.7/dist-packages (from python-dateutil>=2.7.3->pandas>=0.24.0->yfinance) (1.15.0)\n",
            "Requirement already satisfied: charset-normalizer~=2.0.0 in /usr/local/lib/python3.7/dist-packages (from requests>=2.26->yfinance) (2.0.12)\n",
            "Requirement already satisfied: certifi>=2017.4.17 in /usr/local/lib/python3.7/dist-packages (from requests>=2.26->yfinance) (2022.5.18.1)\n",
            "Requirement already satisfied: idna<4,>=2.5 in /usr/local/lib/python3.7/dist-packages (from requests>=2.26->yfinance) (2.10)\n",
            "Requirement already satisfied: urllib3<1.27,>=1.21.1 in /usr/local/lib/python3.7/dist-packages (from requests>=2.26->yfinance) (1.24.3)\n",
            "Installing collected packages: requests, lxml, yfinance\n",
            "  Attempting uninstall: requests\n",
            "    Found existing installation: requests 2.23.0\n",
            "    Uninstalling requests-2.23.0:\n",
            "      Successfully uninstalled requests-2.23.0\n",
            "  Attempting uninstall: lxml\n",
            "    Found existing installation: lxml 4.2.6\n",
            "    Uninstalling lxml-4.2.6:\n",
            "      Successfully uninstalled lxml-4.2.6\n",
            "\u001b[31mERROR: pip's dependency resolver does not currently take into account all the packages that are installed. This behaviour is the source of the following dependency conflicts.\n",
            "google-colab 1.0.0 requires requests~=2.23.0, but you have requests 2.27.1 which is incompatible.\n",
            "datascience 0.10.6 requires folium==0.2.1, but you have folium 0.8.3 which is incompatible.\u001b[0m\n",
            "Successfully installed lxml-4.9.0 requests-2.27.1 yfinance-0.1.70\n",
            "Looking in indexes: https://pypi.org/simple, https://us-python.pkg.dev/colab-wheels/public/simple/\n",
            "Collecting quandl\n",
            "  Downloading Quandl-3.7.0-py2.py3-none-any.whl (26 kB)\n",
            "Requirement already satisfied: pandas>=0.14 in /usr/local/lib/python3.7/dist-packages (from quandl) (1.3.5)\n",
            "Requirement already satisfied: requests>=2.7.0 in /usr/local/lib/python3.7/dist-packages (from quandl) (2.27.1)\n",
            "Requirement already satisfied: numpy>=1.8 in /usr/local/lib/python3.7/dist-packages (from quandl) (1.21.6)\n",
            "Requirement already satisfied: six in /usr/local/lib/python3.7/dist-packages (from quandl) (1.15.0)\n",
            "Collecting inflection>=0.3.1\n",
            "  Downloading inflection-0.5.1-py2.py3-none-any.whl (9.5 kB)\n",
            "Requirement already satisfied: more-itertools in /usr/local/lib/python3.7/dist-packages (from quandl) (8.13.0)\n",
            "Requirement already satisfied: python-dateutil in /usr/local/lib/python3.7/dist-packages (from quandl) (2.8.2)\n",
            "Requirement already satisfied: pytz>=2017.3 in /usr/local/lib/python3.7/dist-packages (from pandas>=0.14->quandl) (2022.1)\n",
            "Requirement already satisfied: certifi>=2017.4.17 in /usr/local/lib/python3.7/dist-packages (from requests>=2.7.0->quandl) (2022.5.18.1)\n",
            "Requirement already satisfied: idna<4,>=2.5 in /usr/local/lib/python3.7/dist-packages (from requests>=2.7.0->quandl) (2.10)\n",
            "Requirement already satisfied: urllib3<1.27,>=1.21.1 in /usr/local/lib/python3.7/dist-packages (from requests>=2.7.0->quandl) (1.24.3)\n",
            "Requirement already satisfied: charset-normalizer~=2.0.0 in /usr/local/lib/python3.7/dist-packages (from requests>=2.7.0->quandl) (2.0.12)\n",
            "Installing collected packages: inflection, quandl\n",
            "Successfully installed inflection-0.5.1 quandl-3.7.0\n"
          ]
        }
      ]
    },
    {
      "cell_type": "code",
      "source": [
        "#Manipulação de Dados\n",
        "import pandas as pd\n",
        "import numpy as np\n",
        "\n",
        "#Visualização de Dados\n",
        "import matplotlib.pyplot as plt\n",
        "\n",
        "#Importação de Dados financeiros\n",
        "import yfinance as yfi\n",
        "import quandl as qdl"
      ],
      "metadata": {
        "id": "XryffRpBHqiL"
      },
      "execution_count": 2,
      "outputs": []
    },
    {
      "cell_type": "markdown",
      "source": [
        "# Obtenção de Dados Via Arquivo"
      ],
      "metadata": {
        "id": "UA7VxqbhHrQr"
      }
    },
    {
      "cell_type": "code",
      "source": [
        "ibov = pd.read_csv(\"/content/Bovespa.csv\")"
      ],
      "metadata": {
        "id": "byYe58uhHy9D"
      },
      "execution_count": 16,
      "outputs": []
    },
    {
      "cell_type": "code",
      "source": [
        "df.head()"
      ],
      "metadata": {
        "id": "71yS8KiUJBSZ",
        "colab": {
          "base_uri": "https://localhost:8080/",
          "height": 300
        },
        "outputId": "29c6aa73-ed88-47a2-b6a1-3e71f616e7e4"
      },
      "execution_count": 17,
      "outputs": [
        {
          "output_type": "execute_result",
          "data": {
            "text/plain": [
              "        Date     ABCB4      BBAS3      BBDC4  BPAN4    BTOW3      CGAS3  \\\n",
              "0   6/5/2012  5.778904  13.193346  14.825962    NaN  4.67417  21.089613   \n",
              "1   6/6/2012  5.784656  13.474055  15.421063    NaN  4.95184  21.367132   \n",
              "2   6/8/2012  5.836405  13.488092  15.457347    NaN  5.08142  22.088638   \n",
              "3  6/11/2012  5.922663  13.614412  15.628112    NaN  5.09993  22.088638   \n",
              "4  6/12/2012  5.876658  13.614412  15.886813    NaN  5.34984  22.088638   \n",
              "\n",
              "       CMIG4     CSNA3      CYRE3  ...     POMO4     QGEP3     RAPT4  \\\n",
              "0  16.403233  9.799454  13.011072  ...  3.559332  7.938090  6.136378   \n",
              "1  17.082111  9.838496  13.979592  ...  3.727821  8.013066  6.316431   \n",
              "2  17.082111  9.799454  14.025277  ...  3.694127  7.825626  6.338035   \n",
              "3  17.120369  9.705755  13.723758  ...  3.753094  7.413257  6.482082   \n",
              "4  17.689350  9.736986  13.632388  ...  3.799433  7.413257  6.482082   \n",
              "\n",
              "      SAPR4      SBSP3     SUZB5      TUPY3     USIM5      VALE5     WEGE3  \n",
              "0  4.945431  19.482090  4.228104  18.623053  7.724799  28.628716  6.314218  \n",
              "1  4.918369  19.842842  4.291890  18.852964  7.456715  29.472841  6.454251  \n",
              "2  5.256635  19.926100  4.437686  18.535686  7.635437  29.727674  6.368317  \n",
              "3  5.195747  20.203676  4.237216  17.629826  7.883664  29.377279  6.368317  \n",
              "4  5.202512  20.739265  4.146093  17.933311  7.754586  30.038250  6.365140  \n",
              "\n",
              "[5 rows x 34 columns]"
            ],
            "text/html": [
              "\n",
              "  <div id=\"df-1485f552-9e0c-4715-b7c7-704503c5197b\">\n",
              "    <div class=\"colab-df-container\">\n",
              "      <div>\n",
              "<style scoped>\n",
              "    .dataframe tbody tr th:only-of-type {\n",
              "        vertical-align: middle;\n",
              "    }\n",
              "\n",
              "    .dataframe tbody tr th {\n",
              "        vertical-align: top;\n",
              "    }\n",
              "\n",
              "    .dataframe thead th {\n",
              "        text-align: right;\n",
              "    }\n",
              "</style>\n",
              "<table border=\"1\" class=\"dataframe\">\n",
              "  <thead>\n",
              "    <tr style=\"text-align: right;\">\n",
              "      <th></th>\n",
              "      <th>Date</th>\n",
              "      <th>ABCB4</th>\n",
              "      <th>BBAS3</th>\n",
              "      <th>BBDC4</th>\n",
              "      <th>BPAN4</th>\n",
              "      <th>BTOW3</th>\n",
              "      <th>CGAS3</th>\n",
              "      <th>CMIG4</th>\n",
              "      <th>CSNA3</th>\n",
              "      <th>CYRE3</th>\n",
              "      <th>...</th>\n",
              "      <th>POMO4</th>\n",
              "      <th>QGEP3</th>\n",
              "      <th>RAPT4</th>\n",
              "      <th>SAPR4</th>\n",
              "      <th>SBSP3</th>\n",
              "      <th>SUZB5</th>\n",
              "      <th>TUPY3</th>\n",
              "      <th>USIM5</th>\n",
              "      <th>VALE5</th>\n",
              "      <th>WEGE3</th>\n",
              "    </tr>\n",
              "  </thead>\n",
              "  <tbody>\n",
              "    <tr>\n",
              "      <th>0</th>\n",
              "      <td>6/5/2012</td>\n",
              "      <td>5.778904</td>\n",
              "      <td>13.193346</td>\n",
              "      <td>14.825962</td>\n",
              "      <td>NaN</td>\n",
              "      <td>4.67417</td>\n",
              "      <td>21.089613</td>\n",
              "      <td>16.403233</td>\n",
              "      <td>9.799454</td>\n",
              "      <td>13.011072</td>\n",
              "      <td>...</td>\n",
              "      <td>3.559332</td>\n",
              "      <td>7.938090</td>\n",
              "      <td>6.136378</td>\n",
              "      <td>4.945431</td>\n",
              "      <td>19.482090</td>\n",
              "      <td>4.228104</td>\n",
              "      <td>18.623053</td>\n",
              "      <td>7.724799</td>\n",
              "      <td>28.628716</td>\n",
              "      <td>6.314218</td>\n",
              "    </tr>\n",
              "    <tr>\n",
              "      <th>1</th>\n",
              "      <td>6/6/2012</td>\n",
              "      <td>5.784656</td>\n",
              "      <td>13.474055</td>\n",
              "      <td>15.421063</td>\n",
              "      <td>NaN</td>\n",
              "      <td>4.95184</td>\n",
              "      <td>21.367132</td>\n",
              "      <td>17.082111</td>\n",
              "      <td>9.838496</td>\n",
              "      <td>13.979592</td>\n",
              "      <td>...</td>\n",
              "      <td>3.727821</td>\n",
              "      <td>8.013066</td>\n",
              "      <td>6.316431</td>\n",
              "      <td>4.918369</td>\n",
              "      <td>19.842842</td>\n",
              "      <td>4.291890</td>\n",
              "      <td>18.852964</td>\n",
              "      <td>7.456715</td>\n",
              "      <td>29.472841</td>\n",
              "      <td>6.454251</td>\n",
              "    </tr>\n",
              "    <tr>\n",
              "      <th>2</th>\n",
              "      <td>6/8/2012</td>\n",
              "      <td>5.836405</td>\n",
              "      <td>13.488092</td>\n",
              "      <td>15.457347</td>\n",
              "      <td>NaN</td>\n",
              "      <td>5.08142</td>\n",
              "      <td>22.088638</td>\n",
              "      <td>17.082111</td>\n",
              "      <td>9.799454</td>\n",
              "      <td>14.025277</td>\n",
              "      <td>...</td>\n",
              "      <td>3.694127</td>\n",
              "      <td>7.825626</td>\n",
              "      <td>6.338035</td>\n",
              "      <td>5.256635</td>\n",
              "      <td>19.926100</td>\n",
              "      <td>4.437686</td>\n",
              "      <td>18.535686</td>\n",
              "      <td>7.635437</td>\n",
              "      <td>29.727674</td>\n",
              "      <td>6.368317</td>\n",
              "    </tr>\n",
              "    <tr>\n",
              "      <th>3</th>\n",
              "      <td>6/11/2012</td>\n",
              "      <td>5.922663</td>\n",
              "      <td>13.614412</td>\n",
              "      <td>15.628112</td>\n",
              "      <td>NaN</td>\n",
              "      <td>5.09993</td>\n",
              "      <td>22.088638</td>\n",
              "      <td>17.120369</td>\n",
              "      <td>9.705755</td>\n",
              "      <td>13.723758</td>\n",
              "      <td>...</td>\n",
              "      <td>3.753094</td>\n",
              "      <td>7.413257</td>\n",
              "      <td>6.482082</td>\n",
              "      <td>5.195747</td>\n",
              "      <td>20.203676</td>\n",
              "      <td>4.237216</td>\n",
              "      <td>17.629826</td>\n",
              "      <td>7.883664</td>\n",
              "      <td>29.377279</td>\n",
              "      <td>6.368317</td>\n",
              "    </tr>\n",
              "    <tr>\n",
              "      <th>4</th>\n",
              "      <td>6/12/2012</td>\n",
              "      <td>5.876658</td>\n",
              "      <td>13.614412</td>\n",
              "      <td>15.886813</td>\n",
              "      <td>NaN</td>\n",
              "      <td>5.34984</td>\n",
              "      <td>22.088638</td>\n",
              "      <td>17.689350</td>\n",
              "      <td>9.736986</td>\n",
              "      <td>13.632388</td>\n",
              "      <td>...</td>\n",
              "      <td>3.799433</td>\n",
              "      <td>7.413257</td>\n",
              "      <td>6.482082</td>\n",
              "      <td>5.202512</td>\n",
              "      <td>20.739265</td>\n",
              "      <td>4.146093</td>\n",
              "      <td>17.933311</td>\n",
              "      <td>7.754586</td>\n",
              "      <td>30.038250</td>\n",
              "      <td>6.365140</td>\n",
              "    </tr>\n",
              "  </tbody>\n",
              "</table>\n",
              "<p>5 rows × 34 columns</p>\n",
              "</div>\n",
              "      <button class=\"colab-df-convert\" onclick=\"convertToInteractive('df-1485f552-9e0c-4715-b7c7-704503c5197b')\"\n",
              "              title=\"Convert this dataframe to an interactive table.\"\n",
              "              style=\"display:none;\">\n",
              "        \n",
              "  <svg xmlns=\"http://www.w3.org/2000/svg\" height=\"24px\"viewBox=\"0 0 24 24\"\n",
              "       width=\"24px\">\n",
              "    <path d=\"M0 0h24v24H0V0z\" fill=\"none\"/>\n",
              "    <path d=\"M18.56 5.44l.94 2.06.94-2.06 2.06-.94-2.06-.94-.94-2.06-.94 2.06-2.06.94zm-11 1L8.5 8.5l.94-2.06 2.06-.94-2.06-.94L8.5 2.5l-.94 2.06-2.06.94zm10 10l.94 2.06.94-2.06 2.06-.94-2.06-.94-.94-2.06-.94 2.06-2.06.94z\"/><path d=\"M17.41 7.96l-1.37-1.37c-.4-.4-.92-.59-1.43-.59-.52 0-1.04.2-1.43.59L10.3 9.45l-7.72 7.72c-.78.78-.78 2.05 0 2.83L4 21.41c.39.39.9.59 1.41.59.51 0 1.02-.2 1.41-.59l7.78-7.78 2.81-2.81c.8-.78.8-2.07 0-2.86zM5.41 20L4 18.59l7.72-7.72 1.47 1.35L5.41 20z\"/>\n",
              "  </svg>\n",
              "      </button>\n",
              "      \n",
              "  <style>\n",
              "    .colab-df-container {\n",
              "      display:flex;\n",
              "      flex-wrap:wrap;\n",
              "      gap: 12px;\n",
              "    }\n",
              "\n",
              "    .colab-df-convert {\n",
              "      background-color: #E8F0FE;\n",
              "      border: none;\n",
              "      border-radius: 50%;\n",
              "      cursor: pointer;\n",
              "      display: none;\n",
              "      fill: #1967D2;\n",
              "      height: 32px;\n",
              "      padding: 0 0 0 0;\n",
              "      width: 32px;\n",
              "    }\n",
              "\n",
              "    .colab-df-convert:hover {\n",
              "      background-color: #E2EBFA;\n",
              "      box-shadow: 0px 1px 2px rgba(60, 64, 67, 0.3), 0px 1px 3px 1px rgba(60, 64, 67, 0.15);\n",
              "      fill: #174EA6;\n",
              "    }\n",
              "\n",
              "    [theme=dark] .colab-df-convert {\n",
              "      background-color: #3B4455;\n",
              "      fill: #D2E3FC;\n",
              "    }\n",
              "\n",
              "    [theme=dark] .colab-df-convert:hover {\n",
              "      background-color: #434B5C;\n",
              "      box-shadow: 0px 1px 3px 1px rgba(0, 0, 0, 0.15);\n",
              "      filter: drop-shadow(0px 1px 2px rgba(0, 0, 0, 0.3));\n",
              "      fill: #FFFFFF;\n",
              "    }\n",
              "  </style>\n",
              "\n",
              "      <script>\n",
              "        const buttonEl =\n",
              "          document.querySelector('#df-1485f552-9e0c-4715-b7c7-704503c5197b button.colab-df-convert');\n",
              "        buttonEl.style.display =\n",
              "          google.colab.kernel.accessAllowed ? 'block' : 'none';\n",
              "\n",
              "        async function convertToInteractive(key) {\n",
              "          const element = document.querySelector('#df-1485f552-9e0c-4715-b7c7-704503c5197b');\n",
              "          const dataTable =\n",
              "            await google.colab.kernel.invokeFunction('convertToInteractive',\n",
              "                                                     [key], {});\n",
              "          if (!dataTable) return;\n",
              "\n",
              "          const docLinkHtml = 'Like what you see? Visit the ' +\n",
              "            '<a target=\"_blank\" href=https://colab.research.google.com/notebooks/data_table.ipynb>data table notebook</a>'\n",
              "            + ' to learn more about interactive tables.';\n",
              "          element.innerHTML = '';\n",
              "          dataTable['output_type'] = 'display_data';\n",
              "          await google.colab.output.renderOutput(dataTable, element);\n",
              "          const docLink = document.createElement('div');\n",
              "          docLink.innerHTML = docLinkHtml;\n",
              "          element.appendChild(docLink);\n",
              "        }\n",
              "      </script>\n",
              "    </div>\n",
              "  </div>\n",
              "  "
            ]
          },
          "metadata": {},
          "execution_count": 17
        }
      ]
    },
    {
      "cell_type": "code",
      "source": [
        "ibov.WEGE3.plot();"
      ],
      "metadata": {
        "id": "UJlgiah0Jr5Z",
        "colab": {
          "base_uri": "https://localhost:8080/",
          "height": 265
        },
        "outputId": "a3df3f0f-5077-4081-b9fa-1b0796e59480"
      },
      "execution_count": 18,
      "outputs": [
        {
          "output_type": "display_data",
          "data": {
            "text/plain": [
              "<Figure size 432x288 with 1 Axes>"
            ],
            "image/png": "[encoded data removed]"
          },
          "metadata": {
            "needs_background": "light"
          }
        }
      ]
    },
    {
      "cell_type": "code",
      "source": [
        "data = pd.read_csv('/content/sample_data/WDO_MT5_sample.txt')"
      ],
      "metadata": {
        "id": "VwOKWxP_SACS"
      },
      "execution_count": 24,
      "outputs": []
    },
    {
      "cell_type": "code",
      "source": [
        "data.head()"
      ],
      "metadata": {
        "id": "UukjKiOhSays",
        "colab": {
          "base_uri": "https://localhost:8080/",
          "height": 206
        },
        "outputId": "dc159b53-a968-4029-8992-697e84d7b282"
      },
      "execution_count": 25,
      "outputs": [
        {
          "output_type": "execute_result",
          "data": {
            "text/plain": [
              "                  time               time.1      open      high       low  \\\n",
              "0  2021-11-08 11:59:00  2021-11-08 11:59:00  5692.411  5692.922  5690.878   \n",
              "1  2021-11-08 12:00:00  2021-11-08 12:00:00  5691.900  5693.943  5691.389   \n",
              "2  2021-11-08 12:01:00  2021-11-08 12:01:00  5693.432  5693.943  5692.411   \n",
              "3  2021-11-08 12:02:00  2021-11-08 12:02:00  5693.943  5693.943  5692.411   \n",
              "4  2021-11-08 12:03:00  2021-11-08 12:03:00  5693.432  5693.943  5691.900   \n",
              "\n",
              "      close  tick_volume  spread  real_volume  \n",
              "0  5691.900         2140       1         6413  \n",
              "1  5693.943         1547       1         5209  \n",
              "2  5693.943         1146       1         4500  \n",
              "3  5693.943          685       1         2227  \n",
              "4  5691.900          922       1         3612  "
            ],
            "text/html": [
              "\n",
              "  <div id=\"df-cfc13054-8b1e-4e0f-a9c1-d7124de99c54\">\n",
              "    <div class=\"colab-df-container\">\n",
              "      <div>\n",
              "<style scoped>\n",
              "    .dataframe tbody tr th:only-of-type {\n",
              "        vertical-align: middle;\n",
              "    }\n",
              "\n",
              "    .dataframe tbody tr th {\n",
              "        vertical-align: top;\n",
              "    }\n",
              "\n",
              "    .dataframe thead th {\n",
              "        text-align: right;\n",
              "    }\n",
              "</style>\n",
              "<table border=\"1\" class=\"dataframe\">\n",
              "  <thead>\n",
              "    <tr style=\"text-align: right;\">\n",
              "      <th></th>\n",
              "      <th>time</th>\n",
              "      <th>time.1</th>\n",
              "      <th>open</th>\n",
              "      <th>high</th>\n",
              "      <th>low</th>\n",
              "      <th>close</th>\n",
              "      <th>tick_volume</th>\n",
              "      <th>spread</th>\n",
              "      <th>real_volume</th>\n",
              "    </tr>\n",
              "  </thead>\n",
              "  <tbody>\n",
              "    <tr>\n",
              "      <th>0</th>\n",
              "      <td>2021-11-08 11:59:00</td>\n",
              "      <td>2021-11-08 11:59:00</td>\n",
              "      <td>5692.411</td>\n",
              "      <td>5692.922</td>\n",
              "      <td>5690.878</td>\n",
              "      <td>5691.900</td>\n",
              "      <td>2140</td>\n",
              "      <td>1</td>\n",
              "      <td>6413</td>\n",
              "    </tr>\n",
              "    <tr>\n",
              "      <th>1</th>\n",
              "      <td>2021-11-08 12:00:00</td>\n",
              "      <td>2021-11-08 12:00:00</td>\n",
              "      <td>5691.900</td>\n",
              "      <td>5693.943</td>\n",
              "      <td>5691.389</td>\n",
              "      <td>5693.943</td>\n",
              "      <td>1547</td>\n",
              "      <td>1</td>\n",
              "      <td>5209</td>\n",
              "    </tr>\n",
              "    <tr>\n",
              "      <th>2</th>\n",
              "      <td>2021-11-08 12:01:00</td>\n",
              "      <td>2021-11-08 12:01:00</td>\n",
              "      <td>5693.432</td>\n",
              "      <td>5693.943</td>\n",
              "      <td>5692.411</td>\n",
              "      <td>5693.943</td>\n",
              "      <td>1146</td>\n",
              "      <td>1</td>\n",
              "      <td>4500</td>\n",
              "    </tr>\n",
              "    <tr>\n",
              "      <th>3</th>\n",
              "      <td>2021-11-08 12:02:00</td>\n",
              "      <td>2021-11-08 12:02:00</td>\n",
              "      <td>5693.943</td>\n",
              "      <td>5693.943</td>\n",
              "      <td>5692.411</td>\n",
              "      <td>5693.943</td>\n",
              "      <td>685</td>\n",
              "      <td>1</td>\n",
              "      <td>2227</td>\n",
              "    </tr>\n",
              "    <tr>\n",
              "      <th>4</th>\n",
              "      <td>2021-11-08 12:03:00</td>\n",
              "      <td>2021-11-08 12:03:00</td>\n",
              "      <td>5693.432</td>\n",
              "      <td>5693.943</td>\n",
              "      <td>5691.900</td>\n",
              "      <td>5691.900</td>\n",
              "      <td>922</td>\n",
              "      <td>1</td>\n",
              "      <td>3612</td>\n",
              "    </tr>\n",
              "  </tbody>\n",
              "</table>\n",
              "</div>\n",
              "      <button class=\"colab-df-convert\" onclick=\"convertToInteractive('df-cfc13054-8b1e-4e0f-a9c1-d7124de99c54')\"\n",
              "              title=\"Convert this dataframe to an interactive table.\"\n",
              "              style=\"display:none;\">\n",
              "        \n",
              "  <svg xmlns=\"http://www.w3.org/2000/svg\" height=\"24px\"viewBox=\"0 0 24 24\"\n",
              "       width=\"24px\">\n",
              "    <path d=\"M0 0h24v24H0V0z\" fill=\"none\"/>\n",
              "    <path d=\"M18.56 5.44l.94 2.06.94-2.06 2.06-.94-2.06-.94-.94-2.06-.94 2.06-2.06.94zm-11 1L8.5 8.5l.94-2.06 2.06-.94-2.06-.94L8.5 2.5l-.94 2.06-2.06.94zm10 10l.94 2.06.94-2.06 2.06-.94-2.06-.94-.94-2.06-.94 2.06-2.06.94z\"/><path d=\"M17.41 7.96l-1.37-1.37c-.4-.4-.92-.59-1.43-.59-.52 0-1.04.2-1.43.59L10.3 9.45l-7.72 7.72c-.78.78-.78 2.05 0 2.83L4 21.41c.39.39.9.59 1.41.59.51 0 1.02-.2 1.41-.59l7.78-7.78 2.81-2.81c.8-.78.8-2.07 0-2.86zM5.41 20L4 18.59l7.72-7.72 1.47 1.35L5.41 20z\"/>\n",
              "  </svg>\n",
              "      </button>\n",
              "      \n",
              "  <style>\n",
              "    .colab-df-container {\n",
              "      display:flex;\n",
              "      flex-wrap:wrap;\n",
              "      gap: 12px;\n",
              "    }\n",
              "\n",
              "    .colab-df-convert {\n",
              "      background-color: #E8F0FE;\n",
              "      border: none;\n",
              "      border-radius: 50%;\n",
              "      cursor: pointer;\n",
              "      display: none;\n",
              "      fill: #1967D2;\n",
              "      height: 32px;\n",
              "      padding: 0 0 0 0;\n",
              "      width: 32px;\n",
              "    }\n",
              "\n",
              "    .colab-df-convert:hover {\n",
              "      background-color: #E2EBFA;\n",
              "      box-shadow: 0px 1px 2px rgba(60, 64, 67, 0.3), 0px 1px 3px 1px rgba(60, 64, 67, 0.15);\n",
              "      fill: #174EA6;\n",
              "    }\n",
              "\n",
              "    [theme=dark] .colab-df-convert {\n",
              "      background-color: #3B4455;\n",
              "      fill: #D2E3FC;\n",
              "    }\n",
              "\n",
              "    [theme=dark] .colab-df-convert:hover {\n",
              "      background-color: #434B5C;\n",
              "      box-shadow: 0px 1px 3px 1px rgba(0, 0, 0, 0.15);\n",
              "      filter: drop-shadow(0px 1px 2px rgba(0, 0, 0, 0.3));\n",
              "      fill: #FFFFFF;\n",
              "    }\n",
              "  </style>\n",
              "\n",
              "      <script>\n",
              "        const buttonEl =\n",
              "          document.querySelector('#df-cfc13054-8b1e-4e0f-a9c1-d7124de99c54 button.colab-df-convert');\n",
              "        buttonEl.style.display =\n",
              "          google.colab.kernel.accessAllowed ? 'block' : 'none';\n",
              "\n",
              "        async function convertToInteractive(key) {\n",
              "          const element = document.querySelector('#df-cfc13054-8b1e-4e0f-a9c1-d7124de99c54');\n",
              "          const dataTable =\n",
              "            await google.colab.kernel.invokeFunction('convertToInteractive',\n",
              "                                                     [key], {});\n",
              "          if (!dataTable) return;\n",
              "\n",
              "          const docLinkHtml = 'Like what you see? Visit the ' +\n",
              "            '<a target=\"_blank\" href=https://colab.research.google.com/notebooks/data_table.ipynb>data table notebook</a>'\n",
              "            + ' to learn more about interactive tables.';\n",
              "          element.innerHTML = '';\n",
              "          dataTable['output_type'] = 'display_data';\n",
              "          await google.colab.output.renderOutput(dataTable, element);\n",
              "          const docLink = document.createElement('div');\n",
              "          docLink.innerHTML = docLinkHtml;\n",
              "          element.appendChild(docLink);\n",
              "        }\n",
              "      </script>\n",
              "    </div>\n",
              "  </div>\n",
              "  "
            ]
          },
          "metadata": {},
          "execution_count": 25
        }
      ]
    },
    {
      "cell_type": "code",
      "source": [
        "data['time'] = pd.to_datetime(data['time'])\n",
        "\n",
        "data.index = data['time']\n",
        "\n",
        "data.head()"
      ],
      "metadata": {
        "id": "NQLD7UUeStsK",
        "colab": {
          "base_uri": "https://localhost:8080/",
          "height": 368
        },
        "outputId": "7ccfc3c0-fbe7-4cd6-def2-06766580bc55"
      },
      "execution_count": 26,
      "outputs": [
        {
          "output_type": "execute_result",
          "data": {
            "text/plain": [
              "                                   time               time.1      open  \\\n",
              "time                                                                     \n",
              "2021-11-08 11:59:00 2021-11-08 11:59:00  2021-11-08 11:59:00  5692.411   \n",
              "2021-11-08 12:00:00 2021-11-08 12:00:00  2021-11-08 12:00:00  5691.900   \n",
              "2021-11-08 12:01:00 2021-11-08 12:01:00  2021-11-08 12:01:00  5693.432   \n",
              "2021-11-08 12:02:00 2021-11-08 12:02:00  2021-11-08 12:02:00  5693.943   \n",
              "2021-11-08 12:03:00 2021-11-08 12:03:00  2021-11-08 12:03:00  5693.432   \n",
              "\n",
              "                         high       low     close  tick_volume  spread  \\\n",
              "time                                                                     \n",
              "2021-11-08 11:59:00  5692.922  5690.878  5691.900         2140       1   \n",
              "2021-11-08 12:00:00  5693.943  5691.389  5693.943         1547       1   \n",
              "2021-11-08 12:01:00  5693.943  5692.411  5693.943         1146       1   \n",
              "2021-11-08 12:02:00  5693.943  5692.411  5693.943          685       1   \n",
              "2021-11-08 12:03:00  5693.943  5691.900  5691.900          922       1   \n",
              "\n",
              "                     real_volume  \n",
              "time                              \n",
              "2021-11-08 11:59:00         6413  \n",
              "2021-11-08 12:00:00         5209  \n",
              "2021-11-08 12:01:00         4500  \n",
              "2021-11-08 12:02:00         2227  \n",
              "2021-11-08 12:03:00         3612  "
            ],
            "text/html": [
              "\n",
              "  <div id=\"df-c1dca82b-7e00-4eaa-b9c0-2813e04ba180\">\n",
              "    <div class=\"colab-df-container\">\n",
              "      <div>\n",
              "<style scoped>\n",
              "    .dataframe tbody tr th:only-of-type {\n",
              "        vertical-align: middle;\n",
              "    }\n",
              "\n",
              "    .dataframe tbody tr th {\n",
              "        vertical-align: top;\n",
              "    }\n",
              "\n",
              "    .dataframe thead th {\n",
              "        text-align: right;\n",
              "    }\n",
              "</style>\n",
              "<table border=\"1\" class=\"dataframe\">\n",
              "  <thead>\n",
              "    <tr style=\"text-align: right;\">\n",
              "      <th></th>\n",
              "      <th>time</th>\n",
              "      <th>time.1</th>\n",
              "      <th>open</th>\n",
              "      <th>high</th>\n",
              "      <th>low</th>\n",
              "      <th>close</th>\n",
              "      <th>tick_volume</th>\n",
              "      <th>spread</th>\n",
              "      <th>real_volume</th>\n",
              "    </tr>\n",
              "    <tr>\n",
              "      <th>time</th>\n",
              "      <th></th>\n",
              "      <th></th>\n",
              "      <th></th>\n",
              "      <th></th>\n",
              "      <th></th>\n",
              "      <th></th>\n",
              "      <th></th>\n",
              "      <th></th>\n",
              "      <th></th>\n",
              "    </tr>\n",
              "  </thead>\n",
              "  <tbody>\n",
              "    <tr>\n",
              "      <th>2021-11-08 11:59:00</th>\n",
              "      <td>2021-11-08 11:59:00</td>\n",
              "      <td>2021-11-08 11:59:00</td>\n",
              "      <td>5692.411</td>\n",
              "      <td>5692.922</td>\n",
              "      <td>5690.878</td>\n",
              "      <td>5691.900</td>\n",
              "      <td>2140</td>\n",
              "      <td>1</td>\n",
              "      <td>6413</td>\n",
              "    </tr>\n",
              "    <tr>\n",
              "      <th>2021-11-08 12:00:00</th>\n",
              "      <td>2021-11-08 12:00:00</td>\n",
              "      <td>2021-11-08 12:00:00</td>\n",
              "      <td>5691.900</td>\n",
              "      <td>5693.943</td>\n",
              "      <td>5691.389</td>\n",
              "      <td>5693.943</td>\n",
              "      <td>1547</td>\n",
              "      <td>1</td>\n",
              "      <td>5209</td>\n",
              "    </tr>\n",
              "    <tr>\n",
              "      <th>2021-11-08 12:01:00</th>\n",
              "      <td>2021-11-08 12:01:00</td>\n",
              "      <td>2021-11-08 12:01:00</td>\n",
              "      <td>5693.432</td>\n",
              "      <td>5693.943</td>\n",
              "      <td>5692.411</td>\n",
              "      <td>5693.943</td>\n",
              "      <td>1146</td>\n",
              "      <td>1</td>\n",
              "      <td>4500</td>\n",
              "    </tr>\n",
              "    <tr>\n",
              "      <th>2021-11-08 12:02:00</th>\n",
              "      <td>2021-11-08 12:02:00</td>\n",
              "      <td>2021-11-08 12:02:00</td>\n",
              "      <td>5693.943</td>\n",
              "      <td>5693.943</td>\n",
              "      <td>5692.411</td>\n",
              "      <td>5693.943</td>\n",
              "      <td>685</td>\n",
              "      <td>1</td>\n",
              "      <td>2227</td>\n",
              "    </tr>\n",
              "    <tr>\n",
              "      <th>2021-11-08 12:03:00</th>\n",
              "      <td>2021-11-08 12:03:00</td>\n",
              "      <td>2021-11-08 12:03:00</td>\n",
              "      <td>5693.432</td>\n",
              "      <td>5693.943</td>\n",
              "      <td>5691.900</td>\n",
              "      <td>5691.900</td>\n",
              "      <td>922</td>\n",
              "      <td>1</td>\n",
              "      <td>3612</td>\n",
              "    </tr>\n",
              "  </tbody>\n",
              "</table>\n",
              "</div>\n",
              "      <button class=\"colab-df-convert\" onclick=\"convertToInteractive('df-c1dca82b-7e00-4eaa-b9c0-2813e04ba180')\"\n",
              "              title=\"Convert this dataframe to an interactive table.\"\n",
              "              style=\"display:none;\">\n",
              "        \n",
              "  <svg xmlns=\"http://www.w3.org/2000/svg\" height=\"24px\"viewBox=\"0 0 24 24\"\n",
              "       width=\"24px\">\n",
              "    <path d=\"M0 0h24v24H0V0z\" fill=\"none\"/>\n",
              "    <path d=\"M18.56 5.44l.94 2.06.94-2.06 2.06-.94-2.06-.94-.94-2.06-.94 2.06-2.06.94zm-11 1L8.5 8.5l.94-2.06 2.06-.94-2.06-.94L8.5 2.5l-.94 2.06-2.06.94zm10 10l.94 2.06.94-2.06 2.06-.94-2.06-.94-.94-2.06-.94 2.06-2.06.94z\"/><path d=\"M17.41 7.96l-1.37-1.37c-.4-.4-.92-.59-1.43-.59-.52 0-1.04.2-1.43.59L10.3 9.45l-7.72 7.72c-.78.78-.78 2.05 0 2.83L4 21.41c.39.39.9.59 1.41.59.51 0 1.02-.2 1.41-.59l7.78-7.78 2.81-2.81c.8-.78.8-2.07 0-2.86zM5.41 20L4 18.59l7.72-7.72 1.47 1.35L5.41 20z\"/>\n",
              "  </svg>\n",
              "      </button>\n",
              "      \n",
              "  <style>\n",
              "    .colab-df-container {\n",
              "      display:flex;\n",
              "      flex-wrap:wrap;\n",
              "      gap: 12px;\n",
              "    }\n",
              "\n",
              "    .colab-df-convert {\n",
              "      background-color: #E8F0FE;\n",
              "      border: none;\n",
              "      border-radius: 50%;\n",
              "      cursor: pointer;\n",
              "      display: none;\n",
              "      fill: #1967D2;\n",
              "      height: 32px;\n",
              "      padding: 0 0 0 0;\n",
              "      width: 32px;\n",
              "    }\n",
              "\n",
              "    .colab-df-convert:hover {\n",
              "      background-color: #E2EBFA;\n",
              "      box-shadow: 0px 1px 2px rgba(60, 64, 67, 0.3), 0px 1px 3px 1px rgba(60, 64, 67, 0.15);\n",
              "      fill: #174EA6;\n",
              "    }\n",
              "\n",
              "    [theme=dark] .colab-df-convert {\n",
              "      background-color: #3B4455;\n",
              "      fill: #D2E3FC;\n",
              "    }\n",
              "\n",
              "    [theme=dark] .colab-df-convert:hover {\n",
              "      background-color: #434B5C;\n",
              "      box-shadow: 0px 1px 3px 1px rgba(0, 0, 0, 0.15);\n",
              "      filter: drop-shadow(0px 1px 2px rgba(0, 0, 0, 0.3));\n",
              "      fill: #FFFFFF;\n",
              "    }\n",
              "  </style>\n",
              "\n",
              "      <script>\n",
              "        const buttonEl =\n",
              "          document.querySelector('#df-c1dca82b-7e00-4eaa-b9c0-2813e04ba180 button.colab-df-convert');\n",
              "        buttonEl.style.display =\n",
              "          google.colab.kernel.accessAllowed ? 'block' : 'none';\n",
              "\n",
              "        async function convertToInteractive(key) {\n",
              "          const element = document.querySelector('#df-c1dca82b-7e00-4eaa-b9c0-2813e04ba180');\n",
              "          const dataTable =\n",
              "            await google.colab.kernel.invokeFunction('convertToInteractive',\n",
              "                                                     [key], {});\n",
              "          if (!dataTable) return;\n",
              "\n",
              "          const docLinkHtml = 'Like what you see? Visit the ' +\n",
              "            '<a target=\"_blank\" href=https://colab.research.google.com/notebooks/data_table.ipynb>data table notebook</a>'\n",
              "            + ' to learn more about interactive tables.';\n",
              "          element.innerHTML = '';\n",
              "          dataTable['output_type'] = 'display_data';\n",
              "          await google.colab.output.renderOutput(dataTable, element);\n",
              "          const docLink = document.createElement('div');\n",
              "          docLink.innerHTML = docLinkHtml;\n",
              "          element.appendChild(docLink);\n",
              "        }\n",
              "      </script>\n",
              "    </div>\n",
              "  </div>\n",
              "  "
            ]
          },
          "metadata": {},
          "execution_count": 26
        }
      ]
    },
    {
      "cell_type": "code",
      "source": [
        "data.close.plot();"
      ],
      "metadata": {
        "id": "aIdsz2n8T3gV",
        "colab": {
          "base_uri": "https://localhost:8080/",
          "height": 285
        },
        "outputId": "f5885528-6f73-4b38-9f7e-41f32c2e4a32"
      },
      "execution_count": 27,
      "outputs": [
        {
          "output_type": "display_data",
          "data": {
            "text/plain": [
              "<Figure size 432x288 with 1 Axes>"
            ],
            "image/png": "[encoded data removed]"
          },
          "metadata": {
            "needs_background": "light"
          }
        }
      ]
    },
    {
      "cell_type": "code",
      "source": [
        "lista = data.columns"
      ],
      "metadata": {
        "id": "DEjaqMKaU5MD"
      },
      "execution_count": 28,
      "outputs": []
    },
    {
      "cell_type": "code",
      "source": [
        "lista"
      ],
      "metadata": {
        "id": "pJDF1OxaVFbj",
        "colab": {
          "base_uri": "https://localhost:8080/"
        },
        "outputId": "d6c01706-a207-4ee2-cee0-0c9d546f4816"
      },
      "execution_count": 29,
      "outputs": [
        {
          "output_type": "execute_result",
          "data": {
            "text/plain": [
              "Index(['time', 'time.1', 'open', 'high', 'low', 'close', 'tick_volume',\n",
              "       'spread', 'real_volume'],\n",
              "      dtype='object')"
            ]
          },
          "metadata": {},
          "execution_count": 29
        }
      ]
    },
    {
      "cell_type": "code",
      "source": [
        "data.shape"
      ],
      "metadata": {
        "id": "NCXwsCLjVHmX",
        "colab": {
          "base_uri": "https://localhost:8080/"
        },
        "outputId": "1025affa-4df3-426b-85b2-fcc4908e3c8b"
      },
      "execution_count": 30,
      "outputs": [
        {
          "output_type": "execute_result",
          "data": {
            "text/plain": [
              "(40000, 9)"
            ]
          },
          "metadata": {},
          "execution_count": 30
        }
      ]
    },
    {
      "cell_type": "code",
      "source": [
        "data.dtypes"
      ],
      "metadata": {
        "id": "hFHM14V3Vv4t",
        "colab": {
          "base_uri": "https://localhost:8080/"
        },
        "outputId": "e3350de8-2ddb-43e0-d9fc-7e381544cc07"
      },
      "execution_count": 31,
      "outputs": [
        {
          "output_type": "execute_result",
          "data": {
            "text/plain": [
              "time           datetime64[ns]\n",
              "time.1                 object\n",
              "open                  float64\n",
              "high                  float64\n",
              "low                   float64\n",
              "close                 float64\n",
              "tick_volume             int64\n",
              "spread                  int64\n",
              "real_volume             int64\n",
              "dtype: object"
            ]
          },
          "metadata": {},
          "execution_count": 31
        }
      ]
    },
    {
      "cell_type": "markdown",
      "source": [
        "# Nova seção"
      ],
      "metadata": {
        "id": "SHJmToJUIDER"
      }
    },
    {
      "cell_type": "markdown",
      "source": [
        "# Nova seção"
      ],
      "metadata": {
        "id": "_GUNIcCoIDrP"
      }
    }
  ]
}